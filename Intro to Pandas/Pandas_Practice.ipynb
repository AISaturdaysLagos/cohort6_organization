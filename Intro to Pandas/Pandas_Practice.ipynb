{
  "nbformat": 4,
  "nbformat_minor": 0,
  "metadata": {
    "colab": {
      "name": "Pandas_Practice.ipynb",
      "provenance": [],
      "collapsed_sections": []
    },
    "kernelspec": {
      "name": "python3",
      "display_name": "Python 3"
    },
    "language_info": {
      "name": "python"
    }
  },
  "cells": [
    {
      "cell_type": "code",
      "metadata": {
        "id": "SYuRK8jGC2Ga"
      },
      "source": [
        "import pandas as pd"
      ],
      "execution_count": 25,
      "outputs": []
    },
    {
      "cell_type": "code",
      "metadata": {
        "id": "lZm6L1ovDYaa"
      },
      "source": [
        "#load dataset\n",
        "demo = pd.read_csv(\"https://raw.githubusercontent.com/AISaturdaysLagos/cohort7_organization/main/Intro%20to%20Pandas/traindemographics.csv\")"
      ],
      "execution_count": 26,
      "outputs": []
    },
    {
      "cell_type": "markdown",
      "metadata": {
        "id": "j0hoBI2N3c2e"
      },
      "source": [
        "### Data Exploration"
      ]
    },
    {
      "cell_type": "code",
      "metadata": {
        "colab": {
          "base_uri": "https://localhost:8080/",
          "height": 313
        },
        "id": "Wg5Jvl6m7nlX",
        "outputId": "2fbc4207-103c-4f3a-dada-1966444523e3"
      },
      "source": [
        "demo.head(5) #View the first 5 rows of the data"
      ],
      "execution_count": 27,
      "outputs": [
        {
          "output_type": "execute_result",
          "data": {
            "text/html": [
              "<div>\n",
              "<style scoped>\n",
              "    .dataframe tbody tr th:only-of-type {\n",
              "        vertical-align: middle;\n",
              "    }\n",
              "\n",
              "    .dataframe tbody tr th {\n",
              "        vertical-align: top;\n",
              "    }\n",
              "\n",
              "    .dataframe thead th {\n",
              "        text-align: right;\n",
              "    }\n",
              "</style>\n",
              "<table border=\"1\" class=\"dataframe\">\n",
              "  <thead>\n",
              "    <tr style=\"text-align: right;\">\n",
              "      <th></th>\n",
              "      <th>customerid</th>\n",
              "      <th>birthdate</th>\n",
              "      <th>bank_account_type</th>\n",
              "      <th>longitude_gps</th>\n",
              "      <th>latitude_gps</th>\n",
              "      <th>bank_name_clients</th>\n",
              "      <th>bank_branch_clients</th>\n",
              "      <th>employment_status_clients</th>\n",
              "      <th>level_of_education_clients</th>\n",
              "    </tr>\n",
              "  </thead>\n",
              "  <tbody>\n",
              "    <tr>\n",
              "      <th>0</th>\n",
              "      <td>8a858e135cb22031015cbafc76964ebd</td>\n",
              "      <td>1973-10-10 00:00:00.000000</td>\n",
              "      <td>Savings</td>\n",
              "      <td>3.319219</td>\n",
              "      <td>6.528604</td>\n",
              "      <td>GT Bank</td>\n",
              "      <td>NaN</td>\n",
              "      <td>NaN</td>\n",
              "      <td>NaN</td>\n",
              "    </tr>\n",
              "    <tr>\n",
              "      <th>1</th>\n",
              "      <td>8a858e275c7ea5ec015c82482d7c3996</td>\n",
              "      <td>1986-01-21 00:00:00.000000</td>\n",
              "      <td>Savings</td>\n",
              "      <td>3.325598</td>\n",
              "      <td>7.119403</td>\n",
              "      <td>Sterling Bank</td>\n",
              "      <td>NaN</td>\n",
              "      <td>Permanent</td>\n",
              "      <td>NaN</td>\n",
              "    </tr>\n",
              "    <tr>\n",
              "      <th>2</th>\n",
              "      <td>8a858e5b5bd99460015bdc95cd485634</td>\n",
              "      <td>1987-04-01 00:00:00.000000</td>\n",
              "      <td>Savings</td>\n",
              "      <td>5.746100</td>\n",
              "      <td>5.563174</td>\n",
              "      <td>Fidelity Bank</td>\n",
              "      <td>NaN</td>\n",
              "      <td>NaN</td>\n",
              "      <td>NaN</td>\n",
              "    </tr>\n",
              "    <tr>\n",
              "      <th>3</th>\n",
              "      <td>8a858efd5ca70688015cabd1f1e94b55</td>\n",
              "      <td>1991-07-19 00:00:00.000000</td>\n",
              "      <td>Savings</td>\n",
              "      <td>3.362850</td>\n",
              "      <td>6.642485</td>\n",
              "      <td>GT Bank</td>\n",
              "      <td>NaN</td>\n",
              "      <td>Permanent</td>\n",
              "      <td>NaN</td>\n",
              "    </tr>\n",
              "    <tr>\n",
              "      <th>4</th>\n",
              "      <td>8a858e785acd3412015acd48f4920d04</td>\n",
              "      <td>1982-11-22 00:00:00.000000</td>\n",
              "      <td>Savings</td>\n",
              "      <td>8.455332</td>\n",
              "      <td>11.971410</td>\n",
              "      <td>GT Bank</td>\n",
              "      <td>NaN</td>\n",
              "      <td>Permanent</td>\n",
              "      <td>NaN</td>\n",
              "    </tr>\n",
              "  </tbody>\n",
              "</table>\n",
              "</div>"
            ],
            "text/plain": [
              "                         customerid  ... level_of_education_clients\n",
              "0  8a858e135cb22031015cbafc76964ebd  ...                        NaN\n",
              "1  8a858e275c7ea5ec015c82482d7c3996  ...                        NaN\n",
              "2  8a858e5b5bd99460015bdc95cd485634  ...                        NaN\n",
              "3  8a858efd5ca70688015cabd1f1e94b55  ...                        NaN\n",
              "4  8a858e785acd3412015acd48f4920d04  ...                        NaN\n",
              "\n",
              "[5 rows x 9 columns]"
            ]
          },
          "metadata": {},
          "execution_count": 27
        }
      ]
    },
    {
      "cell_type": "code",
      "metadata": {
        "colab": {
          "base_uri": "https://localhost:8080/",
          "height": 313
        },
        "id": "QQ75YW5M30Us",
        "outputId": "2ca4b032-f7e9-4c3b-a8e7-74090e4afb8c"
      },
      "source": [
        "demo.tail(5) #View the last 5 rows of the data"
      ],
      "execution_count": 28,
      "outputs": [
        {
          "output_type": "execute_result",
          "data": {
            "text/html": [
              "<div>\n",
              "<style scoped>\n",
              "    .dataframe tbody tr th:only-of-type {\n",
              "        vertical-align: middle;\n",
              "    }\n",
              "\n",
              "    .dataframe tbody tr th {\n",
              "        vertical-align: top;\n",
              "    }\n",
              "\n",
              "    .dataframe thead th {\n",
              "        text-align: right;\n",
              "    }\n",
              "</style>\n",
              "<table border=\"1\" class=\"dataframe\">\n",
              "  <thead>\n",
              "    <tr style=\"text-align: right;\">\n",
              "      <th></th>\n",
              "      <th>customerid</th>\n",
              "      <th>birthdate</th>\n",
              "      <th>bank_account_type</th>\n",
              "      <th>longitude_gps</th>\n",
              "      <th>latitude_gps</th>\n",
              "      <th>bank_name_clients</th>\n",
              "      <th>bank_branch_clients</th>\n",
              "      <th>employment_status_clients</th>\n",
              "      <th>level_of_education_clients</th>\n",
              "    </tr>\n",
              "  </thead>\n",
              "  <tbody>\n",
              "    <tr>\n",
              "      <th>4341</th>\n",
              "      <td>8a858f155554552501555588ca2b3b40</td>\n",
              "      <td>1985-12-13 00:00:00.000000</td>\n",
              "      <td>Other</td>\n",
              "      <td>3.236753</td>\n",
              "      <td>7.030168</td>\n",
              "      <td>Stanbic IBTC</td>\n",
              "      <td>NaN</td>\n",
              "      <td>Permanent</td>\n",
              "      <td>Graduate</td>\n",
              "    </tr>\n",
              "    <tr>\n",
              "      <th>4342</th>\n",
              "      <td>8a858fc65cf978f4015cf97cee3a02ce</td>\n",
              "      <td>1982-07-01 00:00:00.000000</td>\n",
              "      <td>Savings</td>\n",
              "      <td>7.013749</td>\n",
              "      <td>4.875662</td>\n",
              "      <td>GT Bank</td>\n",
              "      <td>NaN</td>\n",
              "      <td>NaN</td>\n",
              "      <td>NaN</td>\n",
              "    </tr>\n",
              "    <tr>\n",
              "      <th>4343</th>\n",
              "      <td>8a858f4f5b66de3a015b66fc83c61902</td>\n",
              "      <td>1989-09-26 00:00:00.000000</td>\n",
              "      <td>Savings</td>\n",
              "      <td>6.295530</td>\n",
              "      <td>7.092508</td>\n",
              "      <td>GT Bank</td>\n",
              "      <td>NaN</td>\n",
              "      <td>Permanent</td>\n",
              "      <td>NaN</td>\n",
              "    </tr>\n",
              "    <tr>\n",
              "      <th>4344</th>\n",
              "      <td>8aaae7a74400b28201441c8b62514150</td>\n",
              "      <td>1985-09-06 00:00:00.000000</td>\n",
              "      <td>Savings</td>\n",
              "      <td>3.354206</td>\n",
              "      <td>6.539070</td>\n",
              "      <td>GT Bank</td>\n",
              "      <td>HEAD OFFICE</td>\n",
              "      <td>Permanent</td>\n",
              "      <td>Primary</td>\n",
              "    </tr>\n",
              "    <tr>\n",
              "      <th>4345</th>\n",
              "      <td>8a85896653e2e18b0153e69c1b90265c</td>\n",
              "      <td>1975-06-05 00:00:00.000000</td>\n",
              "      <td>Savings</td>\n",
              "      <td>6.661014</td>\n",
              "      <td>7.472700</td>\n",
              "      <td>UBA</td>\n",
              "      <td>NaN</td>\n",
              "      <td>Permanent</td>\n",
              "      <td>NaN</td>\n",
              "    </tr>\n",
              "  </tbody>\n",
              "</table>\n",
              "</div>"
            ],
            "text/plain": [
              "                            customerid  ... level_of_education_clients\n",
              "4341  8a858f155554552501555588ca2b3b40  ...                   Graduate\n",
              "4342  8a858fc65cf978f4015cf97cee3a02ce  ...                        NaN\n",
              "4343  8a858f4f5b66de3a015b66fc83c61902  ...                        NaN\n",
              "4344  8aaae7a74400b28201441c8b62514150  ...                    Primary\n",
              "4345  8a85896653e2e18b0153e69c1b90265c  ...                        NaN\n",
              "\n",
              "[5 rows x 9 columns]"
            ]
          },
          "metadata": {},
          "execution_count": 28
        }
      ]
    },
    {
      "cell_type": "code",
      "metadata": {
        "colab": {
          "base_uri": "https://localhost:8080/"
        },
        "id": "ZxSE-MGY3hCL",
        "outputId": "3fc8502a-09fc-46b4-d5c1-4f852bee38a5"
      },
      "source": [
        "len(demo) #check the length of the dataset"
      ],
      "execution_count": 29,
      "outputs": [
        {
          "output_type": "execute_result",
          "data": {
            "text/plain": [
              "4346"
            ]
          },
          "metadata": {},
          "execution_count": 29
        }
      ]
    },
    {
      "cell_type": "code",
      "metadata": {
        "colab": {
          "base_uri": "https://localhost:8080/"
        },
        "id": "V_CijucC3hKi",
        "outputId": "04669531-bcbc-4476-866b-faacc30cbeb7"
      },
      "source": [
        "demo.shape #check the shape of the dataset"
      ],
      "execution_count": 30,
      "outputs": [
        {
          "output_type": "execute_result",
          "data": {
            "text/plain": [
              "(4346, 9)"
            ]
          },
          "metadata": {},
          "execution_count": 30
        }
      ]
    },
    {
      "cell_type": "code",
      "metadata": {
        "colab": {
          "base_uri": "https://localhost:8080/"
        },
        "id": "ZR9yWjrk3hNr",
        "outputId": "6b2b68ed-5846-471b-cde3-07ae37e937e6"
      },
      "source": [
        "demo.columns #list of all the columns of the dataset"
      ],
      "execution_count": 31,
      "outputs": [
        {
          "output_type": "execute_result",
          "data": {
            "text/plain": [
              "Index(['customerid', 'birthdate', 'bank_account_type', 'longitude_gps',\n",
              "       'latitude_gps', 'bank_name_clients', 'bank_branch_clients',\n",
              "       'employment_status_clients', 'level_of_education_clients'],\n",
              "      dtype='object')"
            ]
          },
          "metadata": {},
          "execution_count": 31
        }
      ]
    },
    {
      "cell_type": "code",
      "metadata": {
        "colab": {
          "base_uri": "https://localhost:8080/"
        },
        "id": "Du5kAn4e6y86",
        "outputId": "d91b1a26-948d-4ec2-c1b6-df16d6582c08"
      },
      "source": [
        "#let's check for the unique values in a columns\n",
        "demo['employment_status_clients'].unique()"
      ],
      "execution_count": 32,
      "outputs": [
        {
          "output_type": "execute_result",
          "data": {
            "text/plain": [
              "array([nan, 'Permanent', 'Student', 'Self-Employed', 'Unemployed',\n",
              "       'Retired', 'Contract'], dtype=object)"
            ]
          },
          "metadata": {},
          "execution_count": 32
        }
      ]
    },
    {
      "cell_type": "code",
      "metadata": {
        "colab": {
          "base_uri": "https://localhost:8080/"
        },
        "id": "7ZdT4T9myIAd",
        "outputId": "04e1a2d2-f20d-428c-bed9-d88110a40a02"
      },
      "source": [
        "demo.info() #to get the detail of your data like the counts and dtypes"
      ],
      "execution_count": 33,
      "outputs": [
        {
          "output_type": "stream",
          "name": "stdout",
          "text": [
            "<class 'pandas.core.frame.DataFrame'>\n",
            "RangeIndex: 4346 entries, 0 to 4345\n",
            "Data columns (total 9 columns):\n",
            " #   Column                      Non-Null Count  Dtype  \n",
            "---  ------                      --------------  -----  \n",
            " 0   customerid                  4346 non-null   object \n",
            " 1   birthdate                   4346 non-null   object \n",
            " 2   bank_account_type           4346 non-null   object \n",
            " 3   longitude_gps               4346 non-null   float64\n",
            " 4   latitude_gps                4346 non-null   float64\n",
            " 5   bank_name_clients           4346 non-null   object \n",
            " 6   bank_branch_clients         51 non-null     object \n",
            " 7   employment_status_clients   3698 non-null   object \n",
            " 8   level_of_education_clients  587 non-null    object \n",
            "dtypes: float64(2), object(7)\n",
            "memory usage: 305.7+ KB\n"
          ]
        }
      ]
    },
    {
      "cell_type": "code",
      "metadata": {
        "colab": {
          "base_uri": "https://localhost:8080/"
        },
        "id": "wi-buEMJ44PG",
        "outputId": "0153bac7-7c04-42e7-9144-91ce5137d8f4"
      },
      "source": [
        "demo.loc[:, 'bank_name_clients'] #column slicing. To extract column we use loc"
      ],
      "execution_count": 34,
      "outputs": [
        {
          "output_type": "execute_result",
          "data": {
            "text/plain": [
              "0             GT Bank\n",
              "1       Sterling Bank\n",
              "2       Fidelity Bank\n",
              "3             GT Bank\n",
              "4             GT Bank\n",
              "            ...      \n",
              "4341     Stanbic IBTC\n",
              "4342          GT Bank\n",
              "4343          GT Bank\n",
              "4344          GT Bank\n",
              "4345              UBA\n",
              "Name: bank_name_clients, Length: 4346, dtype: object"
            ]
          },
          "metadata": {},
          "execution_count": 34
        }
      ]
    },
    {
      "cell_type": "code",
      "metadata": {
        "colab": {
          "base_uri": "https://localhost:8080/"
        },
        "id": "NfP4nh8l44Qn",
        "outputId": "8a37f038-f2e8-4d04-f59f-8dbaef2ab430"
      },
      "source": [
        "demo.iloc[20, :] #To extract only the rows"
      ],
      "execution_count": 35,
      "outputs": [
        {
          "output_type": "execute_result",
          "data": {
            "text/plain": [
              "customerid                    8a858f6c570f2d660157238b0c4a1bdd\n",
              "birthdate                           1990-07-03 00:00:00.000000\n",
              "bank_account_type                                        Other\n",
              "longitude_gps                                          7.04089\n",
              "latitude_gps                                           5.79468\n",
              "bank_name_clients                                  Zenith Bank\n",
              "bank_branch_clients                                        NaN\n",
              "employment_status_clients                        Self-Employed\n",
              "level_of_education_clients                            Graduate\n",
              "Name: 20, dtype: object"
            ]
          },
          "metadata": {},
          "execution_count": 35
        }
      ]
    },
    {
      "cell_type": "markdown",
      "metadata": {
        "id": "sQt_UQPe5syn"
      },
      "source": [
        "### Working on Missing Data"
      ]
    },
    {
      "cell_type": "code",
      "metadata": {
        "colab": {
          "base_uri": "https://localhost:8080/",
          "height": 444
        },
        "id": "yd7_3gOE55Z8",
        "outputId": "c3203683-8144-4d91-aceb-0d6857027e38"
      },
      "source": [
        "#to view all missing data.\n",
        "#This comes with boolean output ie False = No missing value, True = Missing Values\n",
        "demo.isnull() "
      ],
      "execution_count": 36,
      "outputs": [
        {
          "output_type": "execute_result",
          "data": {
            "text/html": [
              "<div>\n",
              "<style scoped>\n",
              "    .dataframe tbody tr th:only-of-type {\n",
              "        vertical-align: middle;\n",
              "    }\n",
              "\n",
              "    .dataframe tbody tr th {\n",
              "        vertical-align: top;\n",
              "    }\n",
              "\n",
              "    .dataframe thead th {\n",
              "        text-align: right;\n",
              "    }\n",
              "</style>\n",
              "<table border=\"1\" class=\"dataframe\">\n",
              "  <thead>\n",
              "    <tr style=\"text-align: right;\">\n",
              "      <th></th>\n",
              "      <th>customerid</th>\n",
              "      <th>birthdate</th>\n",
              "      <th>bank_account_type</th>\n",
              "      <th>longitude_gps</th>\n",
              "      <th>latitude_gps</th>\n",
              "      <th>bank_name_clients</th>\n",
              "      <th>bank_branch_clients</th>\n",
              "      <th>employment_status_clients</th>\n",
              "      <th>level_of_education_clients</th>\n",
              "    </tr>\n",
              "  </thead>\n",
              "  <tbody>\n",
              "    <tr>\n",
              "      <th>0</th>\n",
              "      <td>False</td>\n",
              "      <td>False</td>\n",
              "      <td>False</td>\n",
              "      <td>False</td>\n",
              "      <td>False</td>\n",
              "      <td>False</td>\n",
              "      <td>True</td>\n",
              "      <td>True</td>\n",
              "      <td>True</td>\n",
              "    </tr>\n",
              "    <tr>\n",
              "      <th>1</th>\n",
              "      <td>False</td>\n",
              "      <td>False</td>\n",
              "      <td>False</td>\n",
              "      <td>False</td>\n",
              "      <td>False</td>\n",
              "      <td>False</td>\n",
              "      <td>True</td>\n",
              "      <td>False</td>\n",
              "      <td>True</td>\n",
              "    </tr>\n",
              "    <tr>\n",
              "      <th>2</th>\n",
              "      <td>False</td>\n",
              "      <td>False</td>\n",
              "      <td>False</td>\n",
              "      <td>False</td>\n",
              "      <td>False</td>\n",
              "      <td>False</td>\n",
              "      <td>True</td>\n",
              "      <td>True</td>\n",
              "      <td>True</td>\n",
              "    </tr>\n",
              "    <tr>\n",
              "      <th>3</th>\n",
              "      <td>False</td>\n",
              "      <td>False</td>\n",
              "      <td>False</td>\n",
              "      <td>False</td>\n",
              "      <td>False</td>\n",
              "      <td>False</td>\n",
              "      <td>True</td>\n",
              "      <td>False</td>\n",
              "      <td>True</td>\n",
              "    </tr>\n",
              "    <tr>\n",
              "      <th>4</th>\n",
              "      <td>False</td>\n",
              "      <td>False</td>\n",
              "      <td>False</td>\n",
              "      <td>False</td>\n",
              "      <td>False</td>\n",
              "      <td>False</td>\n",
              "      <td>True</td>\n",
              "      <td>False</td>\n",
              "      <td>True</td>\n",
              "    </tr>\n",
              "    <tr>\n",
              "      <th>...</th>\n",
              "      <td>...</td>\n",
              "      <td>...</td>\n",
              "      <td>...</td>\n",
              "      <td>...</td>\n",
              "      <td>...</td>\n",
              "      <td>...</td>\n",
              "      <td>...</td>\n",
              "      <td>...</td>\n",
              "      <td>...</td>\n",
              "    </tr>\n",
              "    <tr>\n",
              "      <th>4341</th>\n",
              "      <td>False</td>\n",
              "      <td>False</td>\n",
              "      <td>False</td>\n",
              "      <td>False</td>\n",
              "      <td>False</td>\n",
              "      <td>False</td>\n",
              "      <td>True</td>\n",
              "      <td>False</td>\n",
              "      <td>False</td>\n",
              "    </tr>\n",
              "    <tr>\n",
              "      <th>4342</th>\n",
              "      <td>False</td>\n",
              "      <td>False</td>\n",
              "      <td>False</td>\n",
              "      <td>False</td>\n",
              "      <td>False</td>\n",
              "      <td>False</td>\n",
              "      <td>True</td>\n",
              "      <td>True</td>\n",
              "      <td>True</td>\n",
              "    </tr>\n",
              "    <tr>\n",
              "      <th>4343</th>\n",
              "      <td>False</td>\n",
              "      <td>False</td>\n",
              "      <td>False</td>\n",
              "      <td>False</td>\n",
              "      <td>False</td>\n",
              "      <td>False</td>\n",
              "      <td>True</td>\n",
              "      <td>False</td>\n",
              "      <td>True</td>\n",
              "    </tr>\n",
              "    <tr>\n",
              "      <th>4344</th>\n",
              "      <td>False</td>\n",
              "      <td>False</td>\n",
              "      <td>False</td>\n",
              "      <td>False</td>\n",
              "      <td>False</td>\n",
              "      <td>False</td>\n",
              "      <td>False</td>\n",
              "      <td>False</td>\n",
              "      <td>False</td>\n",
              "    </tr>\n",
              "    <tr>\n",
              "      <th>4345</th>\n",
              "      <td>False</td>\n",
              "      <td>False</td>\n",
              "      <td>False</td>\n",
              "      <td>False</td>\n",
              "      <td>False</td>\n",
              "      <td>False</td>\n",
              "      <td>True</td>\n",
              "      <td>False</td>\n",
              "      <td>True</td>\n",
              "    </tr>\n",
              "  </tbody>\n",
              "</table>\n",
              "<p>4346 rows × 9 columns</p>\n",
              "</div>"
            ],
            "text/plain": [
              "      customerid  ...  level_of_education_clients\n",
              "0          False  ...                        True\n",
              "1          False  ...                        True\n",
              "2          False  ...                        True\n",
              "3          False  ...                        True\n",
              "4          False  ...                        True\n",
              "...          ...  ...                         ...\n",
              "4341       False  ...                       False\n",
              "4342       False  ...                        True\n",
              "4343       False  ...                        True\n",
              "4344       False  ...                       False\n",
              "4345       False  ...                        True\n",
              "\n",
              "[4346 rows x 9 columns]"
            ]
          },
          "metadata": {},
          "execution_count": 36
        }
      ]
    },
    {
      "cell_type": "code",
      "metadata": {
        "colab": {
          "base_uri": "https://localhost:8080/"
        },
        "id": "Gw_mItRK55cY",
        "outputId": "740abb87-48a5-4560-e72e-a1452ecf8ee3"
      },
      "source": [
        "#To get the sum of missing values by columns\n",
        "demo.isnull().sum()"
      ],
      "execution_count": 37,
      "outputs": [
        {
          "output_type": "execute_result",
          "data": {
            "text/plain": [
              "customerid                       0\n",
              "birthdate                        0\n",
              "bank_account_type                0\n",
              "longitude_gps                    0\n",
              "latitude_gps                     0\n",
              "bank_name_clients                0\n",
              "bank_branch_clients           4295\n",
              "employment_status_clients      648\n",
              "level_of_education_clients    3759\n",
              "dtype: int64"
            ]
          },
          "metadata": {},
          "execution_count": 37
        }
      ]
    },
    {
      "cell_type": "markdown",
      "metadata": {
        "id": "0oQpKER-yOih"
      },
      "source": [
        "### Solving missing values for Categorical data\n",
        "From the output in `demo.isnull().sum()`, we can see that we have lots of missing values espacially in `employment_status_clients` and `level_of_education_clients`. There are two ways to solve this, is either we drop the columns or fill `NAN` values with a name value (i choose to use 'Unknown')."
      ]
    },
    {
      "cell_type": "code",
      "metadata": {
        "id": "XzGGPj-4wbSm"
      },
      "source": [
        "demo['bank_branch_clients'] = demo['bank_branch_clients'].fillna('Unknown') #filled the mssing values with Unknown"
      ],
      "execution_count": 38,
      "outputs": []
    },
    {
      "cell_type": "code",
      "metadata": {
        "id": "0Ti7lD80xJBq"
      },
      "source": [
        "demo['employment_status_clients'] = demo['employment_status_clients'].fillna('Unknown') #filled the mssing values with Unknown"
      ],
      "execution_count": 39,
      "outputs": []
    },
    {
      "cell_type": "code",
      "metadata": {
        "id": "z2ar5zYoxNmV"
      },
      "source": [
        "demo['level_of_education_clients'] = demo['level_of_education_clients'].fillna('Unknown') #filled the mssing values with Unknown"
      ],
      "execution_count": 40,
      "outputs": []
    },
    {
      "cell_type": "code",
      "metadata": {
        "colab": {
          "base_uri": "https://localhost:8080/"
        },
        "id": "BtgYeH7gxWaS",
        "outputId": "67f0293c-dd77-4e46-e881-bedcee409631"
      },
      "source": [
        "demo.isnull().sum()"
      ],
      "execution_count": 41,
      "outputs": [
        {
          "output_type": "execute_result",
          "data": {
            "text/plain": [
              "customerid                    0\n",
              "birthdate                     0\n",
              "bank_account_type             0\n",
              "longitude_gps                 0\n",
              "latitude_gps                  0\n",
              "bank_name_clients             0\n",
              "bank_branch_clients           0\n",
              "employment_status_clients     0\n",
              "level_of_education_clients    0\n",
              "dtype: int64"
            ]
          },
          "metadata": {},
          "execution_count": 41
        }
      ]
    },
    {
      "cell_type": "code",
      "metadata": {
        "id": "jjPAkGDx9Gbo"
      },
      "source": [
        "# pd.crosstab(demo[\"bank_name_clients\"], demo[\"bank_branch_clients\"])"
      ],
      "execution_count": 42,
      "outputs": []
    },
    {
      "cell_type": "markdown",
      "metadata": {
        "id": "_h_cRqwe7RvP"
      },
      "source": [
        "## Pandas Visualization"
      ]
    },
    {
      "cell_type": "code",
      "metadata": {
        "id": "LvE5DW_4MPhh",
        "colab": {
          "base_uri": "https://localhost:8080/",
          "height": 294
        },
        "outputId": "5b9fd726-2c88-4f46-ed76-db508a12fc2c"
      },
      "source": [
        "demo['bank_account_type'].value_counts().plot(kind='bar');"
      ],
      "execution_count": 43,
      "outputs": [
        {
          "output_type": "display_data",
          "data": {
            "image/png": "[encoded data removed]",
            "text/plain": [
              "<Figure size 432x288 with 1 Axes>"
            ]
          },
          "metadata": {
            "needs_background": "light"
          }
        }
      ]
    },
    {
      "cell_type": "code",
      "metadata": {
        "colab": {
          "base_uri": "https://localhost:8080/",
          "height": 327
        },
        "id": "JMlTKd9azow4",
        "outputId": "eae23954-2cd5-48ef-f6b7-4a3aa9bc4092"
      },
      "source": [
        "demo['employment_status_clients'].value_counts().plot(kind='bar');"
      ],
      "execution_count": 44,
      "outputs": [
        {
          "output_type": "display_data",
          "data": {
            "image/png": "[encoded data removed]",
            "text/plain": [
              "<Figure size 432x288 with 1 Axes>"
            ]
          },
          "metadata": {
            "needs_background": "light"
          }
        }
      ]
    },
    {
      "cell_type": "code",
      "metadata": {
        "colab": {
          "base_uri": "https://localhost:8080/",
          "height": 327
        },
        "id": "PaKrd-EIzAQM",
        "outputId": "e9c0ccbd-0de3-477e-fc89-27cef7068582"
      },
      "source": [
        "demo['level_of_education_clients'].value_counts().plot(kind='bar');"
      ],
      "execution_count": 45,
      "outputs": [
        {
          "output_type": "display_data",
          "data": {
            "image/png": "[encoded data removed]",
            "text/plain": [
              "<Figure size 432x288 with 1 Axes>"
            ]
          },
          "metadata": {
            "needs_background": "light"
          }
        }
      ]
    },
    {
      "cell_type": "code",
      "metadata": {
        "colab": {
          "base_uri": "https://localhost:8080/",
          "height": 354
        },
        "id": "VKIHKg680ByJ",
        "outputId": "1288a560-4d3b-4bcf-f3bb-ead30f38ad7a"
      },
      "source": [
        "demo['bank_name_clients'].value_counts().plot(kind='bar');"
      ],
      "execution_count": 46,
      "outputs": [
        {
          "output_type": "display_data",
          "data": {
            "image/png": "[encoded data removed]",
            "text/plain": [
              "<Figure size 432x288 with 1 Axes>"
            ]
          },
          "metadata": {
            "needs_background": "light"
          }
        }
      ]
    },
    {
      "cell_type": "code",
      "metadata": {
        "id": "Ev7JqOnb0ikb"
      },
      "source": [
        ""
      ],
      "execution_count": 46,
      "outputs": []
    }
  ]
}