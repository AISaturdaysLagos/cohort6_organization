{
  "nbformat": 4,
  "nbformat_minor": 0,
  "metadata": {
    "colab": {
      "name": "Pandas notebook",
      "provenance": [],
      "collapsed_sections": []
    },
    "kernelspec": {
      "name": "python3",
      "display_name": "Python 3"
    },
    "language_info": {
      "name": "python"
    },
    "accelerator": "GPU"
  },
  "cells": [
    {
      "cell_type": "markdown",
      "metadata": {
        "id": "ISAOEWDiF86m"
      },
      "source": [
        "# Intro to Pandas"
      ]
    },
    {
      "cell_type": "markdown",
      "metadata": {
        "id": "L32sXN-bF86q"
      },
      "source": [
        "Pandas is a Python package for data analysis and exposes two new\n",
        "data structures: Dataframes and Series.\n",
        "\n",
        "- [Dataframes](http://pandas.pydata.org/pandas-docs/stable/generated/pandas.DataFrame.html) store tabular data consisting of rows and columns.\n",
        "- [Series](https://pandas.pydata.org/pandas-docs/stable/generated/pandas.Series.html) are similar to Python's built-in list or set data types.\n",
        "\n",
        "In this notebook, we will explore the dataframe that Pandas\n",
        "provides, and learn how to interact with them."
      ]
    },
    {
      "cell_type": "markdown",
      "metadata": {
        "id": "DJaufBYRF86s"
      },
      "source": [
        "### 1. Importing Pandas\n",
        "\n",
        "To import an external Python library such as Pandas, use Python's\n",
        "import function. To save yourself some typing later on, you can\n",
        "give the library you import an alias. Here, we are importing Pandas\n",
        "and giving it an alias of `pd`."
      ]
    },
    {
      "cell_type": "code",
      "metadata": {
        "id": "lFV71c9KF86u"
      },
      "source": [
        "import pandas as pd\n",
        "import numpy as np"
      ],
      "execution_count": 122,
      "outputs": []
    },
    {
      "cell_type": "markdown",
      "metadata": {
        "id": "Cw2DjVI3-lHK"
      },
      "source": [
        "###2. Indexing 1D and 2D array\n",
        "To start we need to create integers of one dimentional array using random.randint"
      ]
    },
    {
      "cell_type": "code",
      "metadata": {
        "colab": {
          "base_uri": "https://localhost:8080/"
        },
        "id": "Teesb-z6-kcd",
        "outputId": "bb5dd0ba-a0ec-406b-e80d-7a2bd4f0c61f"
      },
      "source": [
        "#create one dimensional array\n",
        "array= np.random.randint(1, 100, 16)\n",
        "array"
      ],
      "execution_count": 123,
      "outputs": [
        {
          "output_type": "execute_result",
          "data": {
            "text/plain": [
              "array([33, 57,  6,  6, 51, 63, 69, 85, 59, 79, 67, 23, 67, 73, 46, 14])"
            ]
          },
          "metadata": {},
          "execution_count": 123
        }
      ]
    },
    {
      "cell_type": "code",
      "metadata": {
        "colab": {
          "base_uri": "https://localhost:8080/"
        },
        "id": "-Hj5CDQQ-usZ",
        "outputId": "61ac75d1-8408-46d5-dd50-9046da84ce81"
      },
      "source": [
        "#IndexinG 1D ARRAY\n",
        "array[5]"
      ],
      "execution_count": 124,
      "outputs": [
        {
          "output_type": "execute_result",
          "data": {
            "text/plain": [
              "63"
            ]
          },
          "metadata": {},
          "execution_count": 124
        }
      ]
    },
    {
      "cell_type": "code",
      "metadata": {
        "colab": {
          "base_uri": "https://localhost:8080/"
        },
        "id": "lJQNOcjq-0gV",
        "outputId": "20bb0335-8ad0-4e7c-e536-c4e32752e8d0"
      },
      "source": [
        "#let's use 1D array to create a 2D dimentional array using reshape method\n",
        "array1 = array.reshape(4,4)\n",
        "array1"
      ],
      "execution_count": 125,
      "outputs": [
        {
          "output_type": "execute_result",
          "data": {
            "text/plain": [
              "array([[33, 57,  6,  6],\n",
              "       [51, 63, 69, 85],\n",
              "       [59, 79, 67, 23],\n",
              "       [67, 73, 46, 14]])"
            ]
          },
          "metadata": {},
          "execution_count": 125
        }
      ]
    },
    {
      "cell_type": "code",
      "metadata": {
        "colab": {
          "base_uri": "https://localhost:8080/"
        },
        "id": "T1rcKb7__kqU",
        "outputId": "bc01edcb-a34b-46fc-9a8f-1ee617a0e8a8"
      },
      "source": [
        "#Indexing in 2D array. Let's get all the elements from row 1 and column 1 down to the end\n",
        "array1[1:, 1:]"
      ],
      "execution_count": 126,
      "outputs": [
        {
          "output_type": "execute_result",
          "data": {
            "text/plain": [
              "array([[63, 69, 85],\n",
              "       [79, 67, 23],\n",
              "       [73, 46, 14]])"
            ]
          },
          "metadata": {},
          "execution_count": 126
        }
      ]
    },
    {
      "cell_type": "markdown",
      "metadata": {
        "id": "21IwHnCUABXK"
      },
      "source": [
        "###3. Creating Pandas Series"
      ]
    },
    {
      "cell_type": "code",
      "metadata": {
        "colab": {
          "base_uri": "https://localhost:8080/"
        },
        "id": "FiE8NAih_3JC",
        "outputId": "a1ca3516-0604-46d2-9a8b-d58e5fd4332e"
      },
      "source": [
        "#Creating a pandas series on list of strings values\n",
        "ser1 = pd.Series(['Lagos', 'Kaduna', 'Kano', 'Imo', 'Abia'])\n",
        "ser1"
      ],
      "execution_count": 127,
      "outputs": [
        {
          "output_type": "execute_result",
          "data": {
            "text/plain": [
              "0     Lagos\n",
              "1    Kaduna\n",
              "2      Kano\n",
              "3       Imo\n",
              "4      Abia\n",
              "dtype: object"
            ]
          },
          "metadata": {},
          "execution_count": 127
        }
      ]
    },
    {
      "cell_type": "code",
      "metadata": {
        "colab": {
          "base_uri": "https://localhost:8080/"
        },
        "id": "NrF1DqcVAT0F",
        "outputId": "86b1b50a-0aae-4361-90f1-58b477a2008e"
      },
      "source": [
        "#Create a pandas series on list of interger values\n",
        "ser2 = pd.Series([12, 10, 8, 30, 6, 35, 40])\n",
        "ser2"
      ],
      "execution_count": 128,
      "outputs": [
        {
          "output_type": "execute_result",
          "data": {
            "text/plain": [
              "0    12\n",
              "1    10\n",
              "2     8\n",
              "3    30\n",
              "4     6\n",
              "5    35\n",
              "6    40\n",
              "dtype: int64"
            ]
          },
          "metadata": {},
          "execution_count": 128
        }
      ]
    },
    {
      "cell_type": "code",
      "metadata": {
        "colab": {
          "base_uri": "https://localhost:8080/"
        },
        "id": "tVtFOTGJAc2s",
        "outputId": "1ddfbdac-94af-4e35-a837-d830f1b507a8"
      },
      "source": [
        "#Let's use the pd.Series parameters\n",
        "state = ['Lagos', 'Kaduna', 'Kano', 'Imo', 'Abia']\n",
        "capital = ['Ikeja', 'Kaduna', 'Kano', 'Owerri', 'Umuahia']\n",
        "\n",
        "ser3 = pd.Series(data = state, index = capital)\n",
        "ser3"
      ],
      "execution_count": 129,
      "outputs": [
        {
          "output_type": "execute_result",
          "data": {
            "text/plain": [
              "Ikeja       Lagos\n",
              "Kaduna     Kaduna\n",
              "Kano         Kano\n",
              "Owerri        Imo\n",
              "Umuahia      Abia\n",
              "dtype: object"
            ]
          },
          "metadata": {},
          "execution_count": 129
        }
      ]
    },
    {
      "cell_type": "code",
      "metadata": {
        "colab": {
          "base_uri": "https://localhost:8080/"
        },
        "id": "rL9f3J_-ArtS",
        "outputId": "1434a5c7-04a0-4eee-e66e-87cba154aaca"
      },
      "source": [
        "#Create a pandas series using a dictionary\n",
        "\n",
        "ser4 = pd.Series({'Lagos': 'Ikeja', 'Kano': 'Kano', 'Kaduna': 'Kaduna','Abia': 'Unuahia', 'Imo': 'Owerri'})\n",
        "ser4"
      ],
      "execution_count": 130,
      "outputs": [
        {
          "output_type": "execute_result",
          "data": {
            "text/plain": [
              "Lagos       Ikeja\n",
              "Kano         Kano\n",
              "Kaduna     Kaduna\n",
              "Abia      Unuahia\n",
              "Imo        Owerri\n",
              "dtype: object"
            ]
          },
          "metadata": {},
          "execution_count": 130
        }
      ]
    },
    {
      "cell_type": "markdown",
      "metadata": {
        "id": "DGO86fSiF86z"
      },
      "source": [
        "### 4. Creating A Dataframe\n",
        "We will load a CSV file as a dataframe using Panda's `read_csv`\n",
        "method. This will allow us to use Pandas' dataframe functions to\n",
        "explore the data in the CSV."
      ]
    },
    {
      "cell_type": "code",
      "metadata": {
        "colab": {
          "base_uri": "https://localhost:8080/"
        },
        "id": "MBXjXdPqA-8v",
        "outputId": "961b9eec-f3aa-4f3d-b1d7-ba87411dffd2"
      },
      "source": [
        "# Create a dataframe using a dictionary\n",
        "num_dict = {'students': ['Emeka', 'Chioma', 'Daniel'],\n",
        "            'Scores': [76, 77, 64]}\n",
        "num_dict"
      ],
      "execution_count": 131,
      "outputs": [
        {
          "output_type": "execute_result",
          "data": {
            "text/plain": [
              "{'Scores': [76, 77, 64], 'students': ['Emeka', 'Chioma', 'Daniel']}"
            ]
          },
          "metadata": {},
          "execution_count": 131
        }
      ]
    },
    {
      "cell_type": "code",
      "metadata": {
        "colab": {
          "base_uri": "https://localhost:8080/",
          "height": 144
        },
        "id": "tA5LTYjABDN2",
        "outputId": "4b2bc28f-4d8b-46c3-9ca5-075fc7e12f60"
      },
      "source": [
        "# Dictionary to dataframe\n",
        "df_dict = pd.DataFrame(num_dict)\n",
        "df_dict"
      ],
      "execution_count": 132,
      "outputs": [
        {
          "output_type": "execute_result",
          "data": {
            "text/html": [
              "<div>\n",
              "<style scoped>\n",
              "    .dataframe tbody tr th:only-of-type {\n",
              "        vertical-align: middle;\n",
              "    }\n",
              "\n",
              "    .dataframe tbody tr th {\n",
              "        vertical-align: top;\n",
              "    }\n",
              "\n",
              "    .dataframe thead th {\n",
              "        text-align: right;\n",
              "    }\n",
              "</style>\n",
              "<table border=\"1\" class=\"dataframe\">\n",
              "  <thead>\n",
              "    <tr style=\"text-align: right;\">\n",
              "      <th></th>\n",
              "      <th>students</th>\n",
              "      <th>Scores</th>\n",
              "    </tr>\n",
              "  </thead>\n",
              "  <tbody>\n",
              "    <tr>\n",
              "      <th>0</th>\n",
              "      <td>Emeka</td>\n",
              "      <td>76</td>\n",
              "    </tr>\n",
              "    <tr>\n",
              "      <th>1</th>\n",
              "      <td>Chioma</td>\n",
              "      <td>77</td>\n",
              "    </tr>\n",
              "    <tr>\n",
              "      <th>2</th>\n",
              "      <td>Daniel</td>\n",
              "      <td>64</td>\n",
              "    </tr>\n",
              "  </tbody>\n",
              "</table>\n",
              "</div>"
            ],
            "text/plain": [
              "  students  Scores\n",
              "0    Emeka      76\n",
              "1   Chioma      77\n",
              "2   Daniel      64"
            ]
          },
          "metadata": {},
          "execution_count": 132
        }
      ]
    },
    {
      "cell_type": "code",
      "metadata": {
        "colab": {
          "base_uri": "https://localhost:8080/"
        },
        "id": "9WCXT-OgBYQ8",
        "outputId": "3e3a24d1-f5dc-4a65-e6d2-3ec2c7ac90c6"
      },
      "source": [
        "#Create dataframe using a list\n",
        "num_list = [{'a': 1, 'b': 2, 'c': 3},\n",
        "            {'a': 4, 'b': 5, 'c': 6}]\n",
        "num_list"
      ],
      "execution_count": 133,
      "outputs": [
        {
          "output_type": "execute_result",
          "data": {
            "text/plain": [
              "[{'a': 1, 'b': 2, 'c': 3}, {'a': 4, 'b': 5, 'c': 6}]"
            ]
          },
          "metadata": {},
          "execution_count": 133
        }
      ]
    },
    {
      "cell_type": "code",
      "metadata": {
        "colab": {
          "base_uri": "https://localhost:8080/",
          "height": 112
        },
        "id": "Yhrju8xbBiVR",
        "outputId": "34b328bf-78ca-4b34-ccbd-10076c34913d"
      },
      "source": [
        "#List to dataframe\n",
        "df_list = pd.DataFrame(num_list)\n",
        "df_list"
      ],
      "execution_count": 134,
      "outputs": [
        {
          "output_type": "execute_result",
          "data": {
            "text/html": [
              "<div>\n",
              "<style scoped>\n",
              "    .dataframe tbody tr th:only-of-type {\n",
              "        vertical-align: middle;\n",
              "    }\n",
              "\n",
              "    .dataframe tbody tr th {\n",
              "        vertical-align: top;\n",
              "    }\n",
              "\n",
              "    .dataframe thead th {\n",
              "        text-align: right;\n",
              "    }\n",
              "</style>\n",
              "<table border=\"1\" class=\"dataframe\">\n",
              "  <thead>\n",
              "    <tr style=\"text-align: right;\">\n",
              "      <th></th>\n",
              "      <th>a</th>\n",
              "      <th>b</th>\n",
              "      <th>c</th>\n",
              "    </tr>\n",
              "  </thead>\n",
              "  <tbody>\n",
              "    <tr>\n",
              "      <th>0</th>\n",
              "      <td>1</td>\n",
              "      <td>2</td>\n",
              "      <td>3</td>\n",
              "    </tr>\n",
              "    <tr>\n",
              "      <th>1</th>\n",
              "      <td>4</td>\n",
              "      <td>5</td>\n",
              "      <td>6</td>\n",
              "    </tr>\n",
              "  </tbody>\n",
              "</table>\n",
              "</div>"
            ],
            "text/plain": [
              "   a  b  c\n",
              "0  1  2  3\n",
              "1  4  5  6"
            ]
          },
          "metadata": {},
          "execution_count": 134
        }
      ]
    },
    {
      "cell_type": "code",
      "metadata": {
        "id": "MPOj_Wbq2xk_"
      },
      "source": [
        "data_dict = {'Name': ['Ibrahim Musa', 'Emeka Jude', 'Emmanuel Ayomide'],\n",
        "             'Age': [24, 25, 27],\n",
        "             'Sport': ['Football', 'Basketball', 'Volleyball']}"
      ],
      "execution_count": 135,
      "outputs": []
    },
    {
      "cell_type": "code",
      "metadata": {
        "id": "e-mun9Wj3Dzr"
      },
      "source": [
        "data_dict2 = {'Name': ['Nnamdi Ike', 'Emmanuel Ayomide', 'Ahmed Musa'],\n",
        "             'Age': [24, 27, 28],\n",
        "             'Sport': ['Football', 'Basketball', 'Swimming']}"
      ],
      "execution_count": 136,
      "outputs": []
    },
    {
      "cell_type": "code",
      "metadata": {
        "id": "1Q-sYZlL3EbK"
      },
      "source": [
        "# Convert data_dict to a DataFrame\n",
        "df1 = pd.DataFrame(data_dict, index = [0, 1, 2])"
      ],
      "execution_count": 137,
      "outputs": []
    },
    {
      "cell_type": "code",
      "metadata": {
        "colab": {
          "base_uri": "https://localhost:8080/",
          "height": 144
        },
        "id": "W1r6vULkEZe0",
        "outputId": "afdcad51-bad4-48b6-df58-86236bf6cb2d"
      },
      "source": [
        "df1"
      ],
      "execution_count": 138,
      "outputs": [
        {
          "output_type": "execute_result",
          "data": {
            "text/html": [
              "<div>\n",
              "<style scoped>\n",
              "    .dataframe tbody tr th:only-of-type {\n",
              "        vertical-align: middle;\n",
              "    }\n",
              "\n",
              "    .dataframe tbody tr th {\n",
              "        vertical-align: top;\n",
              "    }\n",
              "\n",
              "    .dataframe thead th {\n",
              "        text-align: right;\n",
              "    }\n",
              "</style>\n",
              "<table border=\"1\" class=\"dataframe\">\n",
              "  <thead>\n",
              "    <tr style=\"text-align: right;\">\n",
              "      <th></th>\n",
              "      <th>Name</th>\n",
              "      <th>Age</th>\n",
              "      <th>Sport</th>\n",
              "    </tr>\n",
              "  </thead>\n",
              "  <tbody>\n",
              "    <tr>\n",
              "      <th>0</th>\n",
              "      <td>Ibrahim Musa</td>\n",
              "      <td>24</td>\n",
              "      <td>Football</td>\n",
              "    </tr>\n",
              "    <tr>\n",
              "      <th>1</th>\n",
              "      <td>Emeka Jude</td>\n",
              "      <td>25</td>\n",
              "      <td>Basketball</td>\n",
              "    </tr>\n",
              "    <tr>\n",
              "      <th>2</th>\n",
              "      <td>Emmanuel Ayomide</td>\n",
              "      <td>27</td>\n",
              "      <td>Volleyball</td>\n",
              "    </tr>\n",
              "  </tbody>\n",
              "</table>\n",
              "</div>"
            ],
            "text/plain": [
              "               Name  Age       Sport\n",
              "0      Ibrahim Musa   24    Football\n",
              "1        Emeka Jude   25  Basketball\n",
              "2  Emmanuel Ayomide   27  Volleyball"
            ]
          },
          "metadata": {},
          "execution_count": 138
        }
      ]
    },
    {
      "cell_type": "code",
      "metadata": {
        "id": "pkCNXhwy3VYD"
      },
      "source": [
        "# Convert data_dict2 to a DataFrame\n",
        "df2 = pd.DataFrame(data_dict2, index =[3, 2, 5])"
      ],
      "execution_count": 139,
      "outputs": []
    },
    {
      "cell_type": "code",
      "metadata": {
        "colab": {
          "base_uri": "https://localhost:8080/",
          "height": 144
        },
        "id": "GVXTQmNwEsE_",
        "outputId": "e3a9fa20-5dff-4fbb-cc1d-fb6f485484a6"
      },
      "source": [
        "df2"
      ],
      "execution_count": 140,
      "outputs": [
        {
          "output_type": "execute_result",
          "data": {
            "text/html": [
              "<div>\n",
              "<style scoped>\n",
              "    .dataframe tbody tr th:only-of-type {\n",
              "        vertical-align: middle;\n",
              "    }\n",
              "\n",
              "    .dataframe tbody tr th {\n",
              "        vertical-align: top;\n",
              "    }\n",
              "\n",
              "    .dataframe thead th {\n",
              "        text-align: right;\n",
              "    }\n",
              "</style>\n",
              "<table border=\"1\" class=\"dataframe\">\n",
              "  <thead>\n",
              "    <tr style=\"text-align: right;\">\n",
              "      <th></th>\n",
              "      <th>Name</th>\n",
              "      <th>Age</th>\n",
              "      <th>Sport</th>\n",
              "    </tr>\n",
              "  </thead>\n",
              "  <tbody>\n",
              "    <tr>\n",
              "      <th>3</th>\n",
              "      <td>Nnamdi Ike</td>\n",
              "      <td>24</td>\n",
              "      <td>Football</td>\n",
              "    </tr>\n",
              "    <tr>\n",
              "      <th>2</th>\n",
              "      <td>Emmanuel Ayomide</td>\n",
              "      <td>27</td>\n",
              "      <td>Basketball</td>\n",
              "    </tr>\n",
              "    <tr>\n",
              "      <th>5</th>\n",
              "      <td>Ahmed Musa</td>\n",
              "      <td>28</td>\n",
              "      <td>Swimming</td>\n",
              "    </tr>\n",
              "  </tbody>\n",
              "</table>\n",
              "</div>"
            ],
            "text/plain": [
              "               Name  Age       Sport\n",
              "3        Nnamdi Ike   24    Football\n",
              "2  Emmanuel Ayomide   27  Basketball\n",
              "5        Ahmed Musa   28    Swimming"
            ]
          },
          "metadata": {},
          "execution_count": 140
        }
      ]
    },
    {
      "cell_type": "code",
      "metadata": {
        "colab": {
          "base_uri": "https://localhost:8080/",
          "height": 237
        },
        "id": "bzv9gUzKE0ue",
        "outputId": "41a68b3d-290d-4e02-f473-08ff16d4fca4"
      },
      "source": [
        "# Joining the two dataframe with concat method\n",
        "pd.concat([df1, df2])"
      ],
      "execution_count": 141,
      "outputs": [
        {
          "output_type": "execute_result",
          "data": {
            "text/html": [
              "<div>\n",
              "<style scoped>\n",
              "    .dataframe tbody tr th:only-of-type {\n",
              "        vertical-align: middle;\n",
              "    }\n",
              "\n",
              "    .dataframe tbody tr th {\n",
              "        vertical-align: top;\n",
              "    }\n",
              "\n",
              "    .dataframe thead th {\n",
              "        text-align: right;\n",
              "    }\n",
              "</style>\n",
              "<table border=\"1\" class=\"dataframe\">\n",
              "  <thead>\n",
              "    <tr style=\"text-align: right;\">\n",
              "      <th></th>\n",
              "      <th>Name</th>\n",
              "      <th>Age</th>\n",
              "      <th>Sport</th>\n",
              "    </tr>\n",
              "  </thead>\n",
              "  <tbody>\n",
              "    <tr>\n",
              "      <th>0</th>\n",
              "      <td>Ibrahim Musa</td>\n",
              "      <td>24</td>\n",
              "      <td>Football</td>\n",
              "    </tr>\n",
              "    <tr>\n",
              "      <th>1</th>\n",
              "      <td>Emeka Jude</td>\n",
              "      <td>25</td>\n",
              "      <td>Basketball</td>\n",
              "    </tr>\n",
              "    <tr>\n",
              "      <th>2</th>\n",
              "      <td>Emmanuel Ayomide</td>\n",
              "      <td>27</td>\n",
              "      <td>Volleyball</td>\n",
              "    </tr>\n",
              "    <tr>\n",
              "      <th>3</th>\n",
              "      <td>Nnamdi Ike</td>\n",
              "      <td>24</td>\n",
              "      <td>Football</td>\n",
              "    </tr>\n",
              "    <tr>\n",
              "      <th>2</th>\n",
              "      <td>Emmanuel Ayomide</td>\n",
              "      <td>27</td>\n",
              "      <td>Basketball</td>\n",
              "    </tr>\n",
              "    <tr>\n",
              "      <th>5</th>\n",
              "      <td>Ahmed Musa</td>\n",
              "      <td>28</td>\n",
              "      <td>Swimming</td>\n",
              "    </tr>\n",
              "  </tbody>\n",
              "</table>\n",
              "</div>"
            ],
            "text/plain": [
              "               Name  Age       Sport\n",
              "0      Ibrahim Musa   24    Football\n",
              "1        Emeka Jude   25  Basketball\n",
              "2  Emmanuel Ayomide   27  Volleyball\n",
              "3        Nnamdi Ike   24    Football\n",
              "2  Emmanuel Ayomide   27  Basketball\n",
              "5        Ahmed Musa   28    Swimming"
            ]
          },
          "metadata": {},
          "execution_count": 141
        }
      ]
    },
    {
      "cell_type": "code",
      "metadata": {
        "colab": {
          "base_uri": "https://localhost:8080/",
          "height": 237
        },
        "id": "DkJE4NlLE9_U",
        "outputId": "39a4360e-4527-451b-ba48-fd47f1565430"
      },
      "source": [
        "# Joining the two dataframe with append method\n",
        "df1.append(df2)"
      ],
      "execution_count": 142,
      "outputs": [
        {
          "output_type": "execute_result",
          "data": {
            "text/html": [
              "<div>\n",
              "<style scoped>\n",
              "    .dataframe tbody tr th:only-of-type {\n",
              "        vertical-align: middle;\n",
              "    }\n",
              "\n",
              "    .dataframe tbody tr th {\n",
              "        vertical-align: top;\n",
              "    }\n",
              "\n",
              "    .dataframe thead th {\n",
              "        text-align: right;\n",
              "    }\n",
              "</style>\n",
              "<table border=\"1\" class=\"dataframe\">\n",
              "  <thead>\n",
              "    <tr style=\"text-align: right;\">\n",
              "      <th></th>\n",
              "      <th>Name</th>\n",
              "      <th>Age</th>\n",
              "      <th>Sport</th>\n",
              "    </tr>\n",
              "  </thead>\n",
              "  <tbody>\n",
              "    <tr>\n",
              "      <th>0</th>\n",
              "      <td>Ibrahim Musa</td>\n",
              "      <td>24</td>\n",
              "      <td>Football</td>\n",
              "    </tr>\n",
              "    <tr>\n",
              "      <th>1</th>\n",
              "      <td>Emeka Jude</td>\n",
              "      <td>25</td>\n",
              "      <td>Basketball</td>\n",
              "    </tr>\n",
              "    <tr>\n",
              "      <th>2</th>\n",
              "      <td>Emmanuel Ayomide</td>\n",
              "      <td>27</td>\n",
              "      <td>Volleyball</td>\n",
              "    </tr>\n",
              "    <tr>\n",
              "      <th>3</th>\n",
              "      <td>Nnamdi Ike</td>\n",
              "      <td>24</td>\n",
              "      <td>Football</td>\n",
              "    </tr>\n",
              "    <tr>\n",
              "      <th>2</th>\n",
              "      <td>Emmanuel Ayomide</td>\n",
              "      <td>27</td>\n",
              "      <td>Basketball</td>\n",
              "    </tr>\n",
              "    <tr>\n",
              "      <th>5</th>\n",
              "      <td>Ahmed Musa</td>\n",
              "      <td>28</td>\n",
              "      <td>Swimming</td>\n",
              "    </tr>\n",
              "  </tbody>\n",
              "</table>\n",
              "</div>"
            ],
            "text/plain": [
              "               Name  Age       Sport\n",
              "0      Ibrahim Musa   24    Football\n",
              "1        Emeka Jude   25  Basketball\n",
              "2  Emmanuel Ayomide   27  Volleyball\n",
              "3        Nnamdi Ike   24    Football\n",
              "2  Emmanuel Ayomide   27  Basketball\n",
              "5        Ahmed Musa   28    Swimming"
            ]
          },
          "metadata": {},
          "execution_count": 142
        }
      ]
    },
    {
      "cell_type": "code",
      "metadata": {
        "colab": {
          "base_uri": "https://localhost:8080/",
          "height": 206
        },
        "id": "i92A6m_RFEqP",
        "outputId": "fb35341b-0f80-417b-e555-69d8b3be923f"
      },
      "source": [
        "# Combinig data across the columns using concat\n",
        "pd.concat([df1, df2], axis = 1)"
      ],
      "execution_count": 143,
      "outputs": [
        {
          "output_type": "execute_result",
          "data": {
            "text/html": [
              "<div>\n",
              "<style scoped>\n",
              "    .dataframe tbody tr th:only-of-type {\n",
              "        vertical-align: middle;\n",
              "    }\n",
              "\n",
              "    .dataframe tbody tr th {\n",
              "        vertical-align: top;\n",
              "    }\n",
              "\n",
              "    .dataframe thead th {\n",
              "        text-align: right;\n",
              "    }\n",
              "</style>\n",
              "<table border=\"1\" class=\"dataframe\">\n",
              "  <thead>\n",
              "    <tr style=\"text-align: right;\">\n",
              "      <th></th>\n",
              "      <th>Name</th>\n",
              "      <th>Age</th>\n",
              "      <th>Sport</th>\n",
              "      <th>Name</th>\n",
              "      <th>Age</th>\n",
              "      <th>Sport</th>\n",
              "    </tr>\n",
              "  </thead>\n",
              "  <tbody>\n",
              "    <tr>\n",
              "      <th>0</th>\n",
              "      <td>Ibrahim Musa</td>\n",
              "      <td>24.0</td>\n",
              "      <td>Football</td>\n",
              "      <td>NaN</td>\n",
              "      <td>NaN</td>\n",
              "      <td>NaN</td>\n",
              "    </tr>\n",
              "    <tr>\n",
              "      <th>1</th>\n",
              "      <td>Emeka Jude</td>\n",
              "      <td>25.0</td>\n",
              "      <td>Basketball</td>\n",
              "      <td>NaN</td>\n",
              "      <td>NaN</td>\n",
              "      <td>NaN</td>\n",
              "    </tr>\n",
              "    <tr>\n",
              "      <th>2</th>\n",
              "      <td>Emmanuel Ayomide</td>\n",
              "      <td>27.0</td>\n",
              "      <td>Volleyball</td>\n",
              "      <td>Emmanuel Ayomide</td>\n",
              "      <td>27.0</td>\n",
              "      <td>Basketball</td>\n",
              "    </tr>\n",
              "    <tr>\n",
              "      <th>3</th>\n",
              "      <td>NaN</td>\n",
              "      <td>NaN</td>\n",
              "      <td>NaN</td>\n",
              "      <td>Nnamdi Ike</td>\n",
              "      <td>24.0</td>\n",
              "      <td>Football</td>\n",
              "    </tr>\n",
              "    <tr>\n",
              "      <th>5</th>\n",
              "      <td>NaN</td>\n",
              "      <td>NaN</td>\n",
              "      <td>NaN</td>\n",
              "      <td>Ahmed Musa</td>\n",
              "      <td>28.0</td>\n",
              "      <td>Swimming</td>\n",
              "    </tr>\n",
              "  </tbody>\n",
              "</table>\n",
              "</div>"
            ],
            "text/plain": [
              "               Name   Age       Sport              Name   Age       Sport\n",
              "0      Ibrahim Musa  24.0    Football               NaN   NaN         NaN\n",
              "1        Emeka Jude  25.0  Basketball               NaN   NaN         NaN\n",
              "2  Emmanuel Ayomide  27.0  Volleyball  Emmanuel Ayomide  27.0  Basketball\n",
              "3               NaN   NaN         NaN        Nnamdi Ike  24.0    Football\n",
              "5               NaN   NaN         NaN        Ahmed Musa  28.0    Swimming"
            ]
          },
          "metadata": {},
          "execution_count": 143
        }
      ]
    },
    {
      "cell_type": "markdown",
      "metadata": {
        "id": "FP-A0uIxB07F"
      },
      "source": [
        "###5. Attributes and Methods in dataframe"
      ]
    },
    {
      "cell_type": "code",
      "metadata": {
        "colab": {
          "base_uri": "https://localhost:8080/"
        },
        "id": "pAdzH1yBCD6A",
        "outputId": "c1154f75-2621-4ccd-f460-61856ca347e9"
      },
      "source": [
        "num1_array = np.arange(15).reshape(5, 3)\n",
        "num1_array"
      ],
      "execution_count": 144,
      "outputs": [
        {
          "output_type": "execute_result",
          "data": {
            "text/plain": [
              "array([[ 0,  1,  2],\n",
              "       [ 3,  4,  5],\n",
              "       [ 6,  7,  8],\n",
              "       [ 9, 10, 11],\n",
              "       [12, 13, 14]])"
            ]
          },
          "metadata": {},
          "execution_count": 144
        }
      ]
    },
    {
      "cell_type": "code",
      "metadata": {
        "id": "E0DlUB5hB2wH"
      },
      "source": [
        "index = ['A', 'B', 'C', 'D', 'E']\n",
        "columns = ['Col1', 'Col2', 'Col3']"
      ],
      "execution_count": 145,
      "outputs": []
    },
    {
      "cell_type": "code",
      "metadata": {
        "colab": {
          "base_uri": "https://localhost:8080/",
          "height": 206
        },
        "id": "aK5mMdwbCF2c",
        "outputId": "9af804af-5e77-464e-ca75-7c03659d34af"
      },
      "source": [
        "# Array to DataFrame\n",
        "df1_array = pd.DataFrame(num1_array, index = index, columns = columns)\n",
        "df1_array"
      ],
      "execution_count": 146,
      "outputs": [
        {
          "output_type": "execute_result",
          "data": {
            "text/html": [
              "<div>\n",
              "<style scoped>\n",
              "    .dataframe tbody tr th:only-of-type {\n",
              "        vertical-align: middle;\n",
              "    }\n",
              "\n",
              "    .dataframe tbody tr th {\n",
              "        vertical-align: top;\n",
              "    }\n",
              "\n",
              "    .dataframe thead th {\n",
              "        text-align: right;\n",
              "    }\n",
              "</style>\n",
              "<table border=\"1\" class=\"dataframe\">\n",
              "  <thead>\n",
              "    <tr style=\"text-align: right;\">\n",
              "      <th></th>\n",
              "      <th>Col1</th>\n",
              "      <th>Col2</th>\n",
              "      <th>Col3</th>\n",
              "    </tr>\n",
              "  </thead>\n",
              "  <tbody>\n",
              "    <tr>\n",
              "      <th>A</th>\n",
              "      <td>0</td>\n",
              "      <td>1</td>\n",
              "      <td>2</td>\n",
              "    </tr>\n",
              "    <tr>\n",
              "      <th>B</th>\n",
              "      <td>3</td>\n",
              "      <td>4</td>\n",
              "      <td>5</td>\n",
              "    </tr>\n",
              "    <tr>\n",
              "      <th>C</th>\n",
              "      <td>6</td>\n",
              "      <td>7</td>\n",
              "      <td>8</td>\n",
              "    </tr>\n",
              "    <tr>\n",
              "      <th>D</th>\n",
              "      <td>9</td>\n",
              "      <td>10</td>\n",
              "      <td>11</td>\n",
              "    </tr>\n",
              "    <tr>\n",
              "      <th>E</th>\n",
              "      <td>12</td>\n",
              "      <td>13</td>\n",
              "      <td>14</td>\n",
              "    </tr>\n",
              "  </tbody>\n",
              "</table>\n",
              "</div>"
            ],
            "text/plain": [
              "   Col1  Col2  Col3\n",
              "A     0     1     2\n",
              "B     3     4     5\n",
              "C     6     7     8\n",
              "D     9    10    11\n",
              "E    12    13    14"
            ]
          },
          "metadata": {},
          "execution_count": 146
        }
      ]
    },
    {
      "cell_type": "code",
      "metadata": {
        "colab": {
          "base_uri": "https://localhost:8080/"
        },
        "id": "Hkwaw_mvCW-5",
        "outputId": "f55ca7c5-de4c-4222-d5f8-a3b3ab715f83"
      },
      "source": [
        "# Attributes of pandas\n",
        "df1_array.index  #get all the indexes"
      ],
      "execution_count": 147,
      "outputs": [
        {
          "output_type": "execute_result",
          "data": {
            "text/plain": [
              "Index(['A', 'B', 'C', 'D', 'E'], dtype='object')"
            ]
          },
          "metadata": {},
          "execution_count": 147
        }
      ]
    },
    {
      "cell_type": "code",
      "metadata": {
        "colab": {
          "base_uri": "https://localhost:8080/"
        },
        "id": "shiSyBwgCY1M",
        "outputId": "e7c5c869-88ab-474c-87b6-de6966617ce3"
      },
      "source": [
        "# get all the columns\n",
        "df1_array.columns"
      ],
      "execution_count": 148,
      "outputs": [
        {
          "output_type": "execute_result",
          "data": {
            "text/plain": [
              "Index(['Col1', 'Col2', 'Col3'], dtype='object')"
            ]
          },
          "metadata": {},
          "execution_count": 148
        }
      ]
    },
    {
      "cell_type": "code",
      "metadata": {
        "colab": {
          "base_uri": "https://localhost:8080/"
        },
        "id": "XJVf3QkzCenQ",
        "outputId": "56850548-52a2-4853-bfe3-6829bd22c164"
      },
      "source": [
        "# get all the values\n",
        "df1_array.values"
      ],
      "execution_count": 149,
      "outputs": [
        {
          "output_type": "execute_result",
          "data": {
            "text/plain": [
              "array([[ 0,  1,  2],\n",
              "       [ 3,  4,  5],\n",
              "       [ 6,  7,  8],\n",
              "       [ 9, 10, 11],\n",
              "       [12, 13, 14]])"
            ]
          },
          "metadata": {},
          "execution_count": 149
        }
      ]
    },
    {
      "cell_type": "code",
      "metadata": {
        "colab": {
          "base_uri": "https://localhost:8080/"
        },
        "id": "6slXIrmCChjg",
        "outputId": "ad122043-7dce-4155-f580-61f477262c6a"
      },
      "source": [
        "df1_array.dtypes"
      ],
      "execution_count": 150,
      "outputs": [
        {
          "output_type": "execute_result",
          "data": {
            "text/plain": [
              "Col1    int64\n",
              "Col2    int64\n",
              "Col3    int64\n",
              "dtype: object"
            ]
          },
          "metadata": {},
          "execution_count": 150
        }
      ]
    },
    {
      "cell_type": "code",
      "metadata": {
        "colab": {
          "base_uri": "https://localhost:8080/",
          "height": 144
        },
        "id": "cpXqt0FHCnJM",
        "outputId": "63505dbd-d09f-4b78-9abb-ac898be3fc3a"
      },
      "source": [
        "# df1_array.head()\n",
        "df1_array.tail(3)"
      ],
      "execution_count": 151,
      "outputs": [
        {
          "output_type": "execute_result",
          "data": {
            "text/html": [
              "<div>\n",
              "<style scoped>\n",
              "    .dataframe tbody tr th:only-of-type {\n",
              "        vertical-align: middle;\n",
              "    }\n",
              "\n",
              "    .dataframe tbody tr th {\n",
              "        vertical-align: top;\n",
              "    }\n",
              "\n",
              "    .dataframe thead th {\n",
              "        text-align: right;\n",
              "    }\n",
              "</style>\n",
              "<table border=\"1\" class=\"dataframe\">\n",
              "  <thead>\n",
              "    <tr style=\"text-align: right;\">\n",
              "      <th></th>\n",
              "      <th>Col1</th>\n",
              "      <th>Col2</th>\n",
              "      <th>Col3</th>\n",
              "    </tr>\n",
              "  </thead>\n",
              "  <tbody>\n",
              "    <tr>\n",
              "      <th>C</th>\n",
              "      <td>6</td>\n",
              "      <td>7</td>\n",
              "      <td>8</td>\n",
              "    </tr>\n",
              "    <tr>\n",
              "      <th>D</th>\n",
              "      <td>9</td>\n",
              "      <td>10</td>\n",
              "      <td>11</td>\n",
              "    </tr>\n",
              "    <tr>\n",
              "      <th>E</th>\n",
              "      <td>12</td>\n",
              "      <td>13</td>\n",
              "      <td>14</td>\n",
              "    </tr>\n",
              "  </tbody>\n",
              "</table>\n",
              "</div>"
            ],
            "text/plain": [
              "   Col1  Col2  Col3\n",
              "C     6     7     8\n",
              "D     9    10    11\n",
              "E    12    13    14"
            ]
          },
          "metadata": {},
          "execution_count": 151
        }
      ]
    },
    {
      "cell_type": "markdown",
      "metadata": {
        "id": "V55DDj9kDDQq"
      },
      "source": [
        "###6. Working on Datasets"
      ]
    },
    {
      "cell_type": "code",
      "metadata": {
        "id": "KXZ6d2vwF861"
      },
      "source": [
        "df = pd.read_csv ('https://raw.githubusercontent.com/ai6ph/Loan-default-prediction/main/Default_Fin.csv')\n",
        "students = pd.read_csv('https://raw.githubusercontent.com/AISaturdaysLagos/cohort7_organization/main/Intro%20to%20Pandas/students%20-%20students.csv')"
      ],
      "execution_count": 152,
      "outputs": []
    },
    {
      "cell_type": "code",
      "metadata": {
        "colab": {
          "base_uri": "https://localhost:8080/",
          "height": 206
        },
        "id": "keUw9ir_JJ-f",
        "outputId": "1781d01f-67e2-4b5d-8c31-0f1baec8eb35"
      },
      "source": [
        "df.head()"
      ],
      "execution_count": 153,
      "outputs": [
        {
          "output_type": "execute_result",
          "data": {
            "text/html": [
              "<div>\n",
              "<style scoped>\n",
              "    .dataframe tbody tr th:only-of-type {\n",
              "        vertical-align: middle;\n",
              "    }\n",
              "\n",
              "    .dataframe tbody tr th {\n",
              "        vertical-align: top;\n",
              "    }\n",
              "\n",
              "    .dataframe thead th {\n",
              "        text-align: right;\n",
              "    }\n",
              "</style>\n",
              "<table border=\"1\" class=\"dataframe\">\n",
              "  <thead>\n",
              "    <tr style=\"text-align: right;\">\n",
              "      <th></th>\n",
              "      <th>Index</th>\n",
              "      <th>Employed</th>\n",
              "      <th>Bank Balance</th>\n",
              "      <th>Annual Salary</th>\n",
              "      <th>Defaulted?</th>\n",
              "    </tr>\n",
              "  </thead>\n",
              "  <tbody>\n",
              "    <tr>\n",
              "      <th>0</th>\n",
              "      <td>1</td>\n",
              "      <td>1</td>\n",
              "      <td>8754.36</td>\n",
              "      <td>532339.56</td>\n",
              "      <td>0</td>\n",
              "    </tr>\n",
              "    <tr>\n",
              "      <th>1</th>\n",
              "      <td>2</td>\n",
              "      <td>0</td>\n",
              "      <td>9806.16</td>\n",
              "      <td>145273.56</td>\n",
              "      <td>0</td>\n",
              "    </tr>\n",
              "    <tr>\n",
              "      <th>2</th>\n",
              "      <td>3</td>\n",
              "      <td>1</td>\n",
              "      <td>12882.60</td>\n",
              "      <td>381205.68</td>\n",
              "      <td>0</td>\n",
              "    </tr>\n",
              "    <tr>\n",
              "      <th>3</th>\n",
              "      <td>4</td>\n",
              "      <td>1</td>\n",
              "      <td>6351.00</td>\n",
              "      <td>428453.88</td>\n",
              "      <td>0</td>\n",
              "    </tr>\n",
              "    <tr>\n",
              "      <th>4</th>\n",
              "      <td>5</td>\n",
              "      <td>1</td>\n",
              "      <td>9427.92</td>\n",
              "      <td>461562.00</td>\n",
              "      <td>0</td>\n",
              "    </tr>\n",
              "  </tbody>\n",
              "</table>\n",
              "</div>"
            ],
            "text/plain": [
              "   Index  Employed  Bank Balance  Annual Salary  Defaulted?\n",
              "0      1         1       8754.36      532339.56           0\n",
              "1      2         0       9806.16      145273.56           0\n",
              "2      3         1      12882.60      381205.68           0\n",
              "3      4         1       6351.00      428453.88           0\n",
              "4      5         1       9427.92      461562.00           0"
            ]
          },
          "metadata": {},
          "execution_count": 153
        }
      ]
    },
    {
      "cell_type": "code",
      "metadata": {
        "id": "qonQOBcQGHEl",
        "colab": {
          "base_uri": "https://localhost:8080/"
        },
        "outputId": "a0f93a5c-c08b-46df-ec5b-dea912f4359b"
      },
      "source": [
        "df.shape"
      ],
      "execution_count": 154,
      "outputs": [
        {
          "output_type": "execute_result",
          "data": {
            "text/plain": [
              "(10000, 5)"
            ]
          },
          "metadata": {},
          "execution_count": 154
        }
      ]
    },
    {
      "cell_type": "code",
      "metadata": {
        "id": "NcS-ns5pF866",
        "colab": {
          "base_uri": "https://localhost:8080/"
        },
        "outputId": "c2f884e9-19f5-49ff-caa0-1f2931c9feaf"
      },
      "source": [
        "df.dtypes"
      ],
      "execution_count": 155,
      "outputs": [
        {
          "output_type": "execute_result",
          "data": {
            "text/plain": [
              "Index              int64\n",
              "Employed           int64\n",
              "Bank Balance     float64\n",
              "Annual Salary    float64\n",
              "Defaulted?         int64\n",
              "dtype: object"
            ]
          },
          "metadata": {},
          "execution_count": 155
        }
      ]
    },
    {
      "cell_type": "code",
      "metadata": {
        "id": "foQTRDgsF87C",
        "colab": {
          "base_uri": "https://localhost:8080/",
          "height": 300
        },
        "outputId": "864fc1c7-7a50-487d-b4e6-cce8974f1e11"
      },
      "source": [
        "df.describe()"
      ],
      "execution_count": 156,
      "outputs": [
        {
          "output_type": "execute_result",
          "data": {
            "text/html": [
              "<div>\n",
              "<style scoped>\n",
              "    .dataframe tbody tr th:only-of-type {\n",
              "        vertical-align: middle;\n",
              "    }\n",
              "\n",
              "    .dataframe tbody tr th {\n",
              "        vertical-align: top;\n",
              "    }\n",
              "\n",
              "    .dataframe thead th {\n",
              "        text-align: right;\n",
              "    }\n",
              "</style>\n",
              "<table border=\"1\" class=\"dataframe\">\n",
              "  <thead>\n",
              "    <tr style=\"text-align: right;\">\n",
              "      <th></th>\n",
              "      <th>Index</th>\n",
              "      <th>Employed</th>\n",
              "      <th>Bank Balance</th>\n",
              "      <th>Annual Salary</th>\n",
              "      <th>Defaulted?</th>\n",
              "    </tr>\n",
              "  </thead>\n",
              "  <tbody>\n",
              "    <tr>\n",
              "      <th>count</th>\n",
              "      <td>10000.00000</td>\n",
              "      <td>10000.000000</td>\n",
              "      <td>10000.000000</td>\n",
              "      <td>10000.000000</td>\n",
              "      <td>10000.000000</td>\n",
              "    </tr>\n",
              "    <tr>\n",
              "      <th>mean</th>\n",
              "      <td>5000.50000</td>\n",
              "      <td>0.705600</td>\n",
              "      <td>10024.498524</td>\n",
              "      <td>402203.782224</td>\n",
              "      <td>0.033300</td>\n",
              "    </tr>\n",
              "    <tr>\n",
              "      <th>std</th>\n",
              "      <td>2886.89568</td>\n",
              "      <td>0.455795</td>\n",
              "      <td>5804.579486</td>\n",
              "      <td>160039.674988</td>\n",
              "      <td>0.179428</td>\n",
              "    </tr>\n",
              "    <tr>\n",
              "      <th>min</th>\n",
              "      <td>1.00000</td>\n",
              "      <td>0.000000</td>\n",
              "      <td>0.000000</td>\n",
              "      <td>9263.640000</td>\n",
              "      <td>0.000000</td>\n",
              "    </tr>\n",
              "    <tr>\n",
              "      <th>25%</th>\n",
              "      <td>2500.75000</td>\n",
              "      <td>0.000000</td>\n",
              "      <td>5780.790000</td>\n",
              "      <td>256085.520000</td>\n",
              "      <td>0.000000</td>\n",
              "    </tr>\n",
              "    <tr>\n",
              "      <th>50%</th>\n",
              "      <td>5000.50000</td>\n",
              "      <td>1.000000</td>\n",
              "      <td>9883.620000</td>\n",
              "      <td>414631.740000</td>\n",
              "      <td>0.000000</td>\n",
              "    </tr>\n",
              "    <tr>\n",
              "      <th>75%</th>\n",
              "      <td>7500.25000</td>\n",
              "      <td>1.000000</td>\n",
              "      <td>13995.660000</td>\n",
              "      <td>525692.760000</td>\n",
              "      <td>0.000000</td>\n",
              "    </tr>\n",
              "    <tr>\n",
              "      <th>max</th>\n",
              "      <td>10000.00000</td>\n",
              "      <td>1.000000</td>\n",
              "      <td>31851.840000</td>\n",
              "      <td>882650.760000</td>\n",
              "      <td>1.000000</td>\n",
              "    </tr>\n",
              "  </tbody>\n",
              "</table>\n",
              "</div>"
            ],
            "text/plain": [
              "             Index      Employed  Bank Balance  Annual Salary    Defaulted?\n",
              "count  10000.00000  10000.000000  10000.000000   10000.000000  10000.000000\n",
              "mean    5000.50000      0.705600  10024.498524  402203.782224      0.033300\n",
              "std     2886.89568      0.455795   5804.579486  160039.674988      0.179428\n",
              "min        1.00000      0.000000      0.000000    9263.640000      0.000000\n",
              "25%     2500.75000      0.000000   5780.790000  256085.520000      0.000000\n",
              "50%     5000.50000      1.000000   9883.620000  414631.740000      0.000000\n",
              "75%     7500.25000      1.000000  13995.660000  525692.760000      0.000000\n",
              "max    10000.00000      1.000000  31851.840000  882650.760000      1.000000"
            ]
          },
          "metadata": {},
          "execution_count": 156
        }
      ]
    },
    {
      "cell_type": "markdown",
      "metadata": {
        "id": "8ynkbikN4UmR"
      },
      "source": [
        "### 7. Data Exploration\n"
      ]
    },
    {
      "cell_type": "code",
      "metadata": {
        "colab": {
          "base_uri": "https://localhost:8080/"
        },
        "id": "bzOg3TgD4MMn",
        "outputId": "91b8ddd2-5271-4409-cdcc-361fa42e10de"
      },
      "source": [
        "#checking for missing data\n",
        "df.isnull().sum().sum()"
      ],
      "execution_count": 157,
      "outputs": [
        {
          "output_type": "execute_result",
          "data": {
            "text/plain": [
              "0"
            ]
          },
          "metadata": {},
          "execution_count": 157
        }
      ]
    },
    {
      "cell_type": "code",
      "metadata": {
        "colab": {
          "base_uri": "https://localhost:8080/"
        },
        "id": "-LnlsCBv6Brr",
        "outputId": "435f563a-25bb-4f6a-d496-c85a7a3fbd18"
      },
      "source": [
        "df.isnull().sum()"
      ],
      "execution_count": 158,
      "outputs": [
        {
          "output_type": "execute_result",
          "data": {
            "text/plain": [
              "Index            0\n",
              "Employed         0\n",
              "Bank Balance     0\n",
              "Annual Salary    0\n",
              "Defaulted?       0\n",
              "dtype: int64"
            ]
          },
          "metadata": {},
          "execution_count": 158
        }
      ]
    },
    {
      "cell_type": "code",
      "metadata": {
        "id": "Yanc4I4X6Dfa",
        "colab": {
          "base_uri": "https://localhost:8080/",
          "height": 424
        },
        "outputId": "ddf2514c-d5f8-4603-c561-e26367a134e4"
      },
      "source": [
        "#to drop nan values\n",
        "df.dropna()"
      ],
      "execution_count": 159,
      "outputs": [
        {
          "output_type": "execute_result",
          "data": {
            "text/html": [
              "<div>\n",
              "<style scoped>\n",
              "    .dataframe tbody tr th:only-of-type {\n",
              "        vertical-align: middle;\n",
              "    }\n",
              "\n",
              "    .dataframe tbody tr th {\n",
              "        vertical-align: top;\n",
              "    }\n",
              "\n",
              "    .dataframe thead th {\n",
              "        text-align: right;\n",
              "    }\n",
              "</style>\n",
              "<table border=\"1\" class=\"dataframe\">\n",
              "  <thead>\n",
              "    <tr style=\"text-align: right;\">\n",
              "      <th></th>\n",
              "      <th>Index</th>\n",
              "      <th>Employed</th>\n",
              "      <th>Bank Balance</th>\n",
              "      <th>Annual Salary</th>\n",
              "      <th>Defaulted?</th>\n",
              "    </tr>\n",
              "  </thead>\n",
              "  <tbody>\n",
              "    <tr>\n",
              "      <th>0</th>\n",
              "      <td>1</td>\n",
              "      <td>1</td>\n",
              "      <td>8754.36</td>\n",
              "      <td>532339.56</td>\n",
              "      <td>0</td>\n",
              "    </tr>\n",
              "    <tr>\n",
              "      <th>1</th>\n",
              "      <td>2</td>\n",
              "      <td>0</td>\n",
              "      <td>9806.16</td>\n",
              "      <td>145273.56</td>\n",
              "      <td>0</td>\n",
              "    </tr>\n",
              "    <tr>\n",
              "      <th>2</th>\n",
              "      <td>3</td>\n",
              "      <td>1</td>\n",
              "      <td>12882.60</td>\n",
              "      <td>381205.68</td>\n",
              "      <td>0</td>\n",
              "    </tr>\n",
              "    <tr>\n",
              "      <th>3</th>\n",
              "      <td>4</td>\n",
              "      <td>1</td>\n",
              "      <td>6351.00</td>\n",
              "      <td>428453.88</td>\n",
              "      <td>0</td>\n",
              "    </tr>\n",
              "    <tr>\n",
              "      <th>4</th>\n",
              "      <td>5</td>\n",
              "      <td>1</td>\n",
              "      <td>9427.92</td>\n",
              "      <td>461562.00</td>\n",
              "      <td>0</td>\n",
              "    </tr>\n",
              "    <tr>\n",
              "      <th>...</th>\n",
              "      <td>...</td>\n",
              "      <td>...</td>\n",
              "      <td>...</td>\n",
              "      <td>...</td>\n",
              "      <td>...</td>\n",
              "    </tr>\n",
              "    <tr>\n",
              "      <th>9995</th>\n",
              "      <td>9996</td>\n",
              "      <td>1</td>\n",
              "      <td>8538.72</td>\n",
              "      <td>635908.56</td>\n",
              "      <td>0</td>\n",
              "    </tr>\n",
              "    <tr>\n",
              "      <th>9996</th>\n",
              "      <td>9997</td>\n",
              "      <td>1</td>\n",
              "      <td>9095.52</td>\n",
              "      <td>235928.64</td>\n",
              "      <td>0</td>\n",
              "    </tr>\n",
              "    <tr>\n",
              "      <th>9997</th>\n",
              "      <td>9998</td>\n",
              "      <td>1</td>\n",
              "      <td>10144.92</td>\n",
              "      <td>703633.92</td>\n",
              "      <td>0</td>\n",
              "    </tr>\n",
              "    <tr>\n",
              "      <th>9998</th>\n",
              "      <td>9999</td>\n",
              "      <td>1</td>\n",
              "      <td>18828.12</td>\n",
              "      <td>440029.32</td>\n",
              "      <td>0</td>\n",
              "    </tr>\n",
              "    <tr>\n",
              "      <th>9999</th>\n",
              "      <td>10000</td>\n",
              "      <td>0</td>\n",
              "      <td>2411.04</td>\n",
              "      <td>202355.40</td>\n",
              "      <td>0</td>\n",
              "    </tr>\n",
              "  </tbody>\n",
              "</table>\n",
              "<p>10000 rows × 5 columns</p>\n",
              "</div>"
            ],
            "text/plain": [
              "      Index  Employed  Bank Balance  Annual Salary  Defaulted?\n",
              "0         1         1       8754.36      532339.56           0\n",
              "1         2         0       9806.16      145273.56           0\n",
              "2         3         1      12882.60      381205.68           0\n",
              "3         4         1       6351.00      428453.88           0\n",
              "4         5         1       9427.92      461562.00           0\n",
              "...     ...       ...           ...            ...         ...\n",
              "9995   9996         1       8538.72      635908.56           0\n",
              "9996   9997         1       9095.52      235928.64           0\n",
              "9997   9998         1      10144.92      703633.92           0\n",
              "9998   9999         1      18828.12      440029.32           0\n",
              "9999  10000         0       2411.04      202355.40           0\n",
              "\n",
              "[10000 rows x 5 columns]"
            ]
          },
          "metadata": {},
          "execution_count": 159
        }
      ]
    },
    {
      "cell_type": "code",
      "metadata": {
        "id": "f1PErNea6Fb5",
        "colab": {
          "base_uri": "https://localhost:8080/",
          "height": 424
        },
        "outputId": "025d3514-efda-44e7-d4a4-e51e462f51ba"
      },
      "source": [
        "#fill nan values with forward fill\n",
        "df.fillna(method='ffill')"
      ],
      "execution_count": 160,
      "outputs": [
        {
          "output_type": "execute_result",
          "data": {
            "text/html": [
              "<div>\n",
              "<style scoped>\n",
              "    .dataframe tbody tr th:only-of-type {\n",
              "        vertical-align: middle;\n",
              "    }\n",
              "\n",
              "    .dataframe tbody tr th {\n",
              "        vertical-align: top;\n",
              "    }\n",
              "\n",
              "    .dataframe thead th {\n",
              "        text-align: right;\n",
              "    }\n",
              "</style>\n",
              "<table border=\"1\" class=\"dataframe\">\n",
              "  <thead>\n",
              "    <tr style=\"text-align: right;\">\n",
              "      <th></th>\n",
              "      <th>Index</th>\n",
              "      <th>Employed</th>\n",
              "      <th>Bank Balance</th>\n",
              "      <th>Annual Salary</th>\n",
              "      <th>Defaulted?</th>\n",
              "    </tr>\n",
              "  </thead>\n",
              "  <tbody>\n",
              "    <tr>\n",
              "      <th>0</th>\n",
              "      <td>1</td>\n",
              "      <td>1</td>\n",
              "      <td>8754.36</td>\n",
              "      <td>532339.56</td>\n",
              "      <td>0</td>\n",
              "    </tr>\n",
              "    <tr>\n",
              "      <th>1</th>\n",
              "      <td>2</td>\n",
              "      <td>0</td>\n",
              "      <td>9806.16</td>\n",
              "      <td>145273.56</td>\n",
              "      <td>0</td>\n",
              "    </tr>\n",
              "    <tr>\n",
              "      <th>2</th>\n",
              "      <td>3</td>\n",
              "      <td>1</td>\n",
              "      <td>12882.60</td>\n",
              "      <td>381205.68</td>\n",
              "      <td>0</td>\n",
              "    </tr>\n",
              "    <tr>\n",
              "      <th>3</th>\n",
              "      <td>4</td>\n",
              "      <td>1</td>\n",
              "      <td>6351.00</td>\n",
              "      <td>428453.88</td>\n",
              "      <td>0</td>\n",
              "    </tr>\n",
              "    <tr>\n",
              "      <th>4</th>\n",
              "      <td>5</td>\n",
              "      <td>1</td>\n",
              "      <td>9427.92</td>\n",
              "      <td>461562.00</td>\n",
              "      <td>0</td>\n",
              "    </tr>\n",
              "    <tr>\n",
              "      <th>...</th>\n",
              "      <td>...</td>\n",
              "      <td>...</td>\n",
              "      <td>...</td>\n",
              "      <td>...</td>\n",
              "      <td>...</td>\n",
              "    </tr>\n",
              "    <tr>\n",
              "      <th>9995</th>\n",
              "      <td>9996</td>\n",
              "      <td>1</td>\n",
              "      <td>8538.72</td>\n",
              "      <td>635908.56</td>\n",
              "      <td>0</td>\n",
              "    </tr>\n",
              "    <tr>\n",
              "      <th>9996</th>\n",
              "      <td>9997</td>\n",
              "      <td>1</td>\n",
              "      <td>9095.52</td>\n",
              "      <td>235928.64</td>\n",
              "      <td>0</td>\n",
              "    </tr>\n",
              "    <tr>\n",
              "      <th>9997</th>\n",
              "      <td>9998</td>\n",
              "      <td>1</td>\n",
              "      <td>10144.92</td>\n",
              "      <td>703633.92</td>\n",
              "      <td>0</td>\n",
              "    </tr>\n",
              "    <tr>\n",
              "      <th>9998</th>\n",
              "      <td>9999</td>\n",
              "      <td>1</td>\n",
              "      <td>18828.12</td>\n",
              "      <td>440029.32</td>\n",
              "      <td>0</td>\n",
              "    </tr>\n",
              "    <tr>\n",
              "      <th>9999</th>\n",
              "      <td>10000</td>\n",
              "      <td>0</td>\n",
              "      <td>2411.04</td>\n",
              "      <td>202355.40</td>\n",
              "      <td>0</td>\n",
              "    </tr>\n",
              "  </tbody>\n",
              "</table>\n",
              "<p>10000 rows × 5 columns</p>\n",
              "</div>"
            ],
            "text/plain": [
              "      Index  Employed  Bank Balance  Annual Salary  Defaulted?\n",
              "0         1         1       8754.36      532339.56           0\n",
              "1         2         0       9806.16      145273.56           0\n",
              "2         3         1      12882.60      381205.68           0\n",
              "3         4         1       6351.00      428453.88           0\n",
              "4         5         1       9427.92      461562.00           0\n",
              "...     ...       ...           ...            ...         ...\n",
              "9995   9996         1       8538.72      635908.56           0\n",
              "9996   9997         1       9095.52      235928.64           0\n",
              "9997   9998         1      10144.92      703633.92           0\n",
              "9998   9999         1      18828.12      440029.32           0\n",
              "9999  10000         0       2411.04      202355.40           0\n",
              "\n",
              "[10000 rows x 5 columns]"
            ]
          },
          "metadata": {},
          "execution_count": 160
        }
      ]
    },
    {
      "cell_type": "code",
      "metadata": {
        "id": "3UGTXQ1X6HNe",
        "colab": {
          "base_uri": "https://localhost:8080/",
          "height": 424
        },
        "outputId": "b5786d83-ce02-4f6d-9ba1-98b84ce98de1"
      },
      "source": [
        "#fill nan values with backward fill\n",
        "df.fillna(method='bfill')"
      ],
      "execution_count": 161,
      "outputs": [
        {
          "output_type": "execute_result",
          "data": {
            "text/html": [
              "<div>\n",
              "<style scoped>\n",
              "    .dataframe tbody tr th:only-of-type {\n",
              "        vertical-align: middle;\n",
              "    }\n",
              "\n",
              "    .dataframe tbody tr th {\n",
              "        vertical-align: top;\n",
              "    }\n",
              "\n",
              "    .dataframe thead th {\n",
              "        text-align: right;\n",
              "    }\n",
              "</style>\n",
              "<table border=\"1\" class=\"dataframe\">\n",
              "  <thead>\n",
              "    <tr style=\"text-align: right;\">\n",
              "      <th></th>\n",
              "      <th>Index</th>\n",
              "      <th>Employed</th>\n",
              "      <th>Bank Balance</th>\n",
              "      <th>Annual Salary</th>\n",
              "      <th>Defaulted?</th>\n",
              "    </tr>\n",
              "  </thead>\n",
              "  <tbody>\n",
              "    <tr>\n",
              "      <th>0</th>\n",
              "      <td>1</td>\n",
              "      <td>1</td>\n",
              "      <td>8754.36</td>\n",
              "      <td>532339.56</td>\n",
              "      <td>0</td>\n",
              "    </tr>\n",
              "    <tr>\n",
              "      <th>1</th>\n",
              "      <td>2</td>\n",
              "      <td>0</td>\n",
              "      <td>9806.16</td>\n",
              "      <td>145273.56</td>\n",
              "      <td>0</td>\n",
              "    </tr>\n",
              "    <tr>\n",
              "      <th>2</th>\n",
              "      <td>3</td>\n",
              "      <td>1</td>\n",
              "      <td>12882.60</td>\n",
              "      <td>381205.68</td>\n",
              "      <td>0</td>\n",
              "    </tr>\n",
              "    <tr>\n",
              "      <th>3</th>\n",
              "      <td>4</td>\n",
              "      <td>1</td>\n",
              "      <td>6351.00</td>\n",
              "      <td>428453.88</td>\n",
              "      <td>0</td>\n",
              "    </tr>\n",
              "    <tr>\n",
              "      <th>4</th>\n",
              "      <td>5</td>\n",
              "      <td>1</td>\n",
              "      <td>9427.92</td>\n",
              "      <td>461562.00</td>\n",
              "      <td>0</td>\n",
              "    </tr>\n",
              "    <tr>\n",
              "      <th>...</th>\n",
              "      <td>...</td>\n",
              "      <td>...</td>\n",
              "      <td>...</td>\n",
              "      <td>...</td>\n",
              "      <td>...</td>\n",
              "    </tr>\n",
              "    <tr>\n",
              "      <th>9995</th>\n",
              "      <td>9996</td>\n",
              "      <td>1</td>\n",
              "      <td>8538.72</td>\n",
              "      <td>635908.56</td>\n",
              "      <td>0</td>\n",
              "    </tr>\n",
              "    <tr>\n",
              "      <th>9996</th>\n",
              "      <td>9997</td>\n",
              "      <td>1</td>\n",
              "      <td>9095.52</td>\n",
              "      <td>235928.64</td>\n",
              "      <td>0</td>\n",
              "    </tr>\n",
              "    <tr>\n",
              "      <th>9997</th>\n",
              "      <td>9998</td>\n",
              "      <td>1</td>\n",
              "      <td>10144.92</td>\n",
              "      <td>703633.92</td>\n",
              "      <td>0</td>\n",
              "    </tr>\n",
              "    <tr>\n",
              "      <th>9998</th>\n",
              "      <td>9999</td>\n",
              "      <td>1</td>\n",
              "      <td>18828.12</td>\n",
              "      <td>440029.32</td>\n",
              "      <td>0</td>\n",
              "    </tr>\n",
              "    <tr>\n",
              "      <th>9999</th>\n",
              "      <td>10000</td>\n",
              "      <td>0</td>\n",
              "      <td>2411.04</td>\n",
              "      <td>202355.40</td>\n",
              "      <td>0</td>\n",
              "    </tr>\n",
              "  </tbody>\n",
              "</table>\n",
              "<p>10000 rows × 5 columns</p>\n",
              "</div>"
            ],
            "text/plain": [
              "      Index  Employed  Bank Balance  Annual Salary  Defaulted?\n",
              "0         1         1       8754.36      532339.56           0\n",
              "1         2         0       9806.16      145273.56           0\n",
              "2         3         1      12882.60      381205.68           0\n",
              "3         4         1       6351.00      428453.88           0\n",
              "4         5         1       9427.92      461562.00           0\n",
              "...     ...       ...           ...            ...         ...\n",
              "9995   9996         1       8538.72      635908.56           0\n",
              "9996   9997         1       9095.52      235928.64           0\n",
              "9997   9998         1      10144.92      703633.92           0\n",
              "9998   9999         1      18828.12      440029.32           0\n",
              "9999  10000         0       2411.04      202355.40           0\n",
              "\n",
              "[10000 rows x 5 columns]"
            ]
          },
          "metadata": {},
          "execution_count": 161
        }
      ]
    },
    {
      "cell_type": "markdown",
      "metadata": {
        "id": "dQ_Ar64Axd9G"
      },
      "source": [
        "Indexing"
      ]
    },
    {
      "cell_type": "code",
      "metadata": {
        "id": "e3yTLEm6F87W",
        "colab": {
          "base_uri": "https://localhost:8080/"
        },
        "outputId": "b9f33056-5b14-4ebe-95c7-916a00ecdaa7"
      },
      "source": [
        "df['Employed'].head()"
      ],
      "execution_count": 162,
      "outputs": [
        {
          "output_type": "execute_result",
          "data": {
            "text/plain": [
              "0    1\n",
              "1    0\n",
              "2    1\n",
              "3    1\n",
              "4    1\n",
              "Name: Employed, dtype: int64"
            ]
          },
          "metadata": {},
          "execution_count": 162
        }
      ]
    },
    {
      "cell_type": "code",
      "metadata": {
        "id": "IE-bED8PF87f",
        "colab": {
          "base_uri": "https://localhost:8080/",
          "height": 112
        },
        "outputId": "03bd2dd7-190b-40b8-8989-5f931dc7d137"
      },
      "source": [
        "# Get rows 1 through 3 and columns 0 through 5.\n",
        "df.iloc[1:3,:5]"
      ],
      "execution_count": 163,
      "outputs": [
        {
          "output_type": "execute_result",
          "data": {
            "text/html": [
              "<div>\n",
              "<style scoped>\n",
              "    .dataframe tbody tr th:only-of-type {\n",
              "        vertical-align: middle;\n",
              "    }\n",
              "\n",
              "    .dataframe tbody tr th {\n",
              "        vertical-align: top;\n",
              "    }\n",
              "\n",
              "    .dataframe thead th {\n",
              "        text-align: right;\n",
              "    }\n",
              "</style>\n",
              "<table border=\"1\" class=\"dataframe\">\n",
              "  <thead>\n",
              "    <tr style=\"text-align: right;\">\n",
              "      <th></th>\n",
              "      <th>Index</th>\n",
              "      <th>Employed</th>\n",
              "      <th>Bank Balance</th>\n",
              "      <th>Annual Salary</th>\n",
              "      <th>Defaulted?</th>\n",
              "    </tr>\n",
              "  </thead>\n",
              "  <tbody>\n",
              "    <tr>\n",
              "      <th>1</th>\n",
              "      <td>2</td>\n",
              "      <td>0</td>\n",
              "      <td>9806.16</td>\n",
              "      <td>145273.56</td>\n",
              "      <td>0</td>\n",
              "    </tr>\n",
              "    <tr>\n",
              "      <th>2</th>\n",
              "      <td>3</td>\n",
              "      <td>1</td>\n",
              "      <td>12882.60</td>\n",
              "      <td>381205.68</td>\n",
              "      <td>0</td>\n",
              "    </tr>\n",
              "  </tbody>\n",
              "</table>\n",
              "</div>"
            ],
            "text/plain": [
              "   Index  Employed  Bank Balance  Annual Salary  Defaulted?\n",
              "1      2         0       9806.16      145273.56           0\n",
              "2      3         1      12882.60      381205.68           0"
            ]
          },
          "metadata": {},
          "execution_count": 163
        }
      ]
    },
    {
      "cell_type": "code",
      "metadata": {
        "id": "TML9OVklF87j",
        "colab": {
          "base_uri": "https://localhost:8080/",
          "height": 144
        },
        "outputId": "329d2b0a-29fb-42ee-a63d-b7456dc9097f"
      },
      "source": [
        "# Get rows with index values of 2-4 and the columns basket_amount and activity\n",
        "df.loc[2:4, [\"Bank Balance\", \"Employed\"]]"
      ],
      "execution_count": 164,
      "outputs": [
        {
          "output_type": "execute_result",
          "data": {
            "text/html": [
              "<div>\n",
              "<style scoped>\n",
              "    .dataframe tbody tr th:only-of-type {\n",
              "        vertical-align: middle;\n",
              "    }\n",
              "\n",
              "    .dataframe tbody tr th {\n",
              "        vertical-align: top;\n",
              "    }\n",
              "\n",
              "    .dataframe thead th {\n",
              "        text-align: right;\n",
              "    }\n",
              "</style>\n",
              "<table border=\"1\" class=\"dataframe\">\n",
              "  <thead>\n",
              "    <tr style=\"text-align: right;\">\n",
              "      <th></th>\n",
              "      <th>Bank Balance</th>\n",
              "      <th>Employed</th>\n",
              "    </tr>\n",
              "  </thead>\n",
              "  <tbody>\n",
              "    <tr>\n",
              "      <th>2</th>\n",
              "      <td>12882.60</td>\n",
              "      <td>1</td>\n",
              "    </tr>\n",
              "    <tr>\n",
              "      <th>3</th>\n",
              "      <td>6351.00</td>\n",
              "      <td>1</td>\n",
              "    </tr>\n",
              "    <tr>\n",
              "      <th>4</th>\n",
              "      <td>9427.92</td>\n",
              "      <td>1</td>\n",
              "    </tr>\n",
              "  </tbody>\n",
              "</table>\n",
              "</div>"
            ],
            "text/plain": [
              "   Bank Balance  Employed\n",
              "2      12882.60         1\n",
              "3       6351.00         1\n",
              "4       9427.92         1"
            ]
          },
          "metadata": {},
          "execution_count": 164
        }
      ]
    },
    {
      "cell_type": "markdown",
      "metadata": {
        "id": "pph-4iMh4oZG"
      },
      "source": [
        "###8. Plotting using Pandas"
      ]
    },
    {
      "cell_type": "code",
      "metadata": {
        "colab": {
          "base_uri": "https://localhost:8080/",
          "height": 206
        },
        "id": "Yj4_mBZh3y57",
        "outputId": "5c3e3ab9-bb89-4ae8-f665-0e8a77c3ad64"
      },
      "source": [
        "students.head()"
      ],
      "execution_count": 165,
      "outputs": [
        {
          "output_type": "execute_result",
          "data": {
            "text/html": [
              "<div>\n",
              "<style scoped>\n",
              "    .dataframe tbody tr th:only-of-type {\n",
              "        vertical-align: middle;\n",
              "    }\n",
              "\n",
              "    .dataframe tbody tr th {\n",
              "        vertical-align: top;\n",
              "    }\n",
              "\n",
              "    .dataframe thead th {\n",
              "        text-align: right;\n",
              "    }\n",
              "</style>\n",
              "<table border=\"1\" class=\"dataframe\">\n",
              "  <thead>\n",
              "    <tr style=\"text-align: right;\">\n",
              "      <th></th>\n",
              "      <th>student_id</th>\n",
              "      <th>name</th>\n",
              "      <th>age</th>\n",
              "      <th>sport</th>\n",
              "      <th>Biology_score</th>\n",
              "      <th>Maths_score</th>\n",
              "      <th>English_score</th>\n",
              "      <th>amount_paid</th>\n",
              "      <th>Gender</th>\n",
              "    </tr>\n",
              "  </thead>\n",
              "  <tbody>\n",
              "    <tr>\n",
              "      <th>0</th>\n",
              "      <td>1</td>\n",
              "      <td>Emmanuel Ayomide</td>\n",
              "      <td>27</td>\n",
              "      <td>Football</td>\n",
              "      <td>73.0</td>\n",
              "      <td>58.0</td>\n",
              "      <td>65.0</td>\n",
              "      <td>29600</td>\n",
              "      <td>Male</td>\n",
              "    </tr>\n",
              "    <tr>\n",
              "      <th>1</th>\n",
              "      <td>2</td>\n",
              "      <td>Ibrahim Musa</td>\n",
              "      <td>24</td>\n",
              "      <td>Football</td>\n",
              "      <td>92.0</td>\n",
              "      <td>56.0</td>\n",
              "      <td>80.0</td>\n",
              "      <td>30000</td>\n",
              "      <td>Male</td>\n",
              "    </tr>\n",
              "    <tr>\n",
              "      <th>2</th>\n",
              "      <td>3</td>\n",
              "      <td>Sesan Obi</td>\n",
              "      <td>24</td>\n",
              "      <td>Swimming</td>\n",
              "      <td>67.0</td>\n",
              "      <td>95.0</td>\n",
              "      <td>71.0</td>\n",
              "      <td>40000</td>\n",
              "      <td>Female</td>\n",
              "    </tr>\n",
              "    <tr>\n",
              "      <th>3</th>\n",
              "      <td>4</td>\n",
              "      <td>Kevin Frank</td>\n",
              "      <td>25</td>\n",
              "      <td>Tennis</td>\n",
              "      <td>53.0</td>\n",
              "      <td>85.0</td>\n",
              "      <td>74.0</td>\n",
              "      <td>26100</td>\n",
              "      <td>Male</td>\n",
              "    </tr>\n",
              "    <tr>\n",
              "      <th>4</th>\n",
              "      <td>5</td>\n",
              "      <td>Emeka Jude</td>\n",
              "      <td>24</td>\n",
              "      <td>Basketball</td>\n",
              "      <td>86.0</td>\n",
              "      <td>80.0</td>\n",
              "      <td>93.0</td>\n",
              "      <td>26410</td>\n",
              "      <td>Male</td>\n",
              "    </tr>\n",
              "  </tbody>\n",
              "</table>\n",
              "</div>"
            ],
            "text/plain": [
              "   student_id              name  age  ... English_score  amount_paid  Gender\n",
              "0           1  Emmanuel Ayomide   27  ...          65.0        29600    Male\n",
              "1           2      Ibrahim Musa   24  ...          80.0        30000    Male\n",
              "2           3         Sesan Obi   24  ...          71.0        40000  Female\n",
              "3           4       Kevin Frank   25  ...          74.0        26100    Male\n",
              "4           5        Emeka Jude   24  ...          93.0        26410    Male\n",
              "\n",
              "[5 rows x 9 columns]"
            ]
          },
          "metadata": {},
          "execution_count": 165
        }
      ]
    },
    {
      "cell_type": "code",
      "metadata": {
        "colab": {
          "base_uri": "https://localhost:8080/"
        },
        "id": "vblnA7Jd9qBh",
        "outputId": "643a18e9-e66f-458a-d2b9-54f838aa6df1"
      },
      "source": [
        "# Using isnull().sum() to get the summary of all null values\n",
        "students.isnull().sum()"
      ],
      "execution_count": 166,
      "outputs": [
        {
          "output_type": "execute_result",
          "data": {
            "text/plain": [
              "student_id       0\n",
              "name             0\n",
              "age              0\n",
              "sport            1\n",
              "Biology_score    1\n",
              "Maths_score      1\n",
              "English_score    1\n",
              "amount_paid      0\n",
              "Gender           0\n",
              "dtype: int64"
            ]
          },
          "metadata": {},
          "execution_count": 166
        }
      ]
    },
    {
      "cell_type": "code",
      "metadata": {
        "id": "gG4yAaup93hz",
        "colab": {
          "base_uri": "https://localhost:8080/",
          "height": 676
        },
        "outputId": "7ab7d996-34d1-4e83-86eb-292079ced87f"
      },
      "source": [
        "# Using fillna() to fill all null values\n",
        "students.fillna(value= 0) #fill with zeros(0)"
      ],
      "execution_count": 167,
      "outputs": [
        {
          "output_type": "execute_result",
          "data": {
            "text/html": [
              "<div>\n",
              "<style scoped>\n",
              "    .dataframe tbody tr th:only-of-type {\n",
              "        vertical-align: middle;\n",
              "    }\n",
              "\n",
              "    .dataframe tbody tr th {\n",
              "        vertical-align: top;\n",
              "    }\n",
              "\n",
              "    .dataframe thead th {\n",
              "        text-align: right;\n",
              "    }\n",
              "</style>\n",
              "<table border=\"1\" class=\"dataframe\">\n",
              "  <thead>\n",
              "    <tr style=\"text-align: right;\">\n",
              "      <th></th>\n",
              "      <th>student_id</th>\n",
              "      <th>name</th>\n",
              "      <th>age</th>\n",
              "      <th>sport</th>\n",
              "      <th>Biology_score</th>\n",
              "      <th>Maths_score</th>\n",
              "      <th>English_score</th>\n",
              "      <th>amount_paid</th>\n",
              "      <th>Gender</th>\n",
              "    </tr>\n",
              "  </thead>\n",
              "  <tbody>\n",
              "    <tr>\n",
              "      <th>0</th>\n",
              "      <td>1</td>\n",
              "      <td>Emmanuel Ayomide</td>\n",
              "      <td>27</td>\n",
              "      <td>Football</td>\n",
              "      <td>73.0</td>\n",
              "      <td>58.0</td>\n",
              "      <td>65.0</td>\n",
              "      <td>29600</td>\n",
              "      <td>Male</td>\n",
              "    </tr>\n",
              "    <tr>\n",
              "      <th>1</th>\n",
              "      <td>2</td>\n",
              "      <td>Ibrahim Musa</td>\n",
              "      <td>24</td>\n",
              "      <td>Football</td>\n",
              "      <td>92.0</td>\n",
              "      <td>56.0</td>\n",
              "      <td>80.0</td>\n",
              "      <td>30000</td>\n",
              "      <td>Male</td>\n",
              "    </tr>\n",
              "    <tr>\n",
              "      <th>2</th>\n",
              "      <td>3</td>\n",
              "      <td>Sesan Obi</td>\n",
              "      <td>24</td>\n",
              "      <td>Swimming</td>\n",
              "      <td>67.0</td>\n",
              "      <td>95.0</td>\n",
              "      <td>71.0</td>\n",
              "      <td>40000</td>\n",
              "      <td>Female</td>\n",
              "    </tr>\n",
              "    <tr>\n",
              "      <th>3</th>\n",
              "      <td>4</td>\n",
              "      <td>Kevin Frank</td>\n",
              "      <td>25</td>\n",
              "      <td>Tennis</td>\n",
              "      <td>53.0</td>\n",
              "      <td>85.0</td>\n",
              "      <td>74.0</td>\n",
              "      <td>26100</td>\n",
              "      <td>Male</td>\n",
              "    </tr>\n",
              "    <tr>\n",
              "      <th>4</th>\n",
              "      <td>5</td>\n",
              "      <td>Emeka Jude</td>\n",
              "      <td>24</td>\n",
              "      <td>Basketball</td>\n",
              "      <td>86.0</td>\n",
              "      <td>80.0</td>\n",
              "      <td>93.0</td>\n",
              "      <td>26410</td>\n",
              "      <td>Male</td>\n",
              "    </tr>\n",
              "    <tr>\n",
              "      <th>5</th>\n",
              "      <td>6</td>\n",
              "      <td>Caroline Obi</td>\n",
              "      <td>27</td>\n",
              "      <td>Basketball</td>\n",
              "      <td>92.0</td>\n",
              "      <td>71.0</td>\n",
              "      <td>79.0</td>\n",
              "      <td>31200</td>\n",
              "      <td>Female</td>\n",
              "    </tr>\n",
              "    <tr>\n",
              "      <th>6</th>\n",
              "      <td>7</td>\n",
              "      <td>Franklin Oladele</td>\n",
              "      <td>18</td>\n",
              "      <td>Football</td>\n",
              "      <td>96.0</td>\n",
              "      <td>0.0</td>\n",
              "      <td>70.0</td>\n",
              "      <td>29800</td>\n",
              "      <td>Male</td>\n",
              "    </tr>\n",
              "    <tr>\n",
              "      <th>7</th>\n",
              "      <td>8</td>\n",
              "      <td>Kola Ola</td>\n",
              "      <td>28</td>\n",
              "      <td>Swimming</td>\n",
              "      <td>82.0</td>\n",
              "      <td>95.0</td>\n",
              "      <td>58.0</td>\n",
              "      <td>40000</td>\n",
              "      <td>Female</td>\n",
              "    </tr>\n",
              "    <tr>\n",
              "      <th>8</th>\n",
              "      <td>9</td>\n",
              "      <td>Emmanuel Ovi</td>\n",
              "      <td>23</td>\n",
              "      <td>Tennis</td>\n",
              "      <td>79.0</td>\n",
              "      <td>61.0</td>\n",
              "      <td>68.0</td>\n",
              "      <td>32500</td>\n",
              "      <td>Female</td>\n",
              "    </tr>\n",
              "    <tr>\n",
              "      <th>9</th>\n",
              "      <td>10</td>\n",
              "      <td>Kareem Musa</td>\n",
              "      <td>24</td>\n",
              "      <td>Football</td>\n",
              "      <td>78.0</td>\n",
              "      <td>73.0</td>\n",
              "      <td>86.0</td>\n",
              "      <td>30000</td>\n",
              "      <td>Female</td>\n",
              "    </tr>\n",
              "    <tr>\n",
              "      <th>10</th>\n",
              "      <td>11</td>\n",
              "      <td>Mustapha Ahmed</td>\n",
              "      <td>24</td>\n",
              "      <td>0</td>\n",
              "      <td>88.0</td>\n",
              "      <td>84.0</td>\n",
              "      <td>0.0</td>\n",
              "      <td>26500</td>\n",
              "      <td>Male</td>\n",
              "    </tr>\n",
              "    <tr>\n",
              "      <th>11</th>\n",
              "      <td>12</td>\n",
              "      <td>Femi Akin</td>\n",
              "      <td>24</td>\n",
              "      <td>Tennis</td>\n",
              "      <td>90.0</td>\n",
              "      <td>97.0</td>\n",
              "      <td>85.0</td>\n",
              "      <td>40000</td>\n",
              "      <td>Male</td>\n",
              "    </tr>\n",
              "    <tr>\n",
              "      <th>12</th>\n",
              "      <td>13</td>\n",
              "      <td>Tobi Olaniyan</td>\n",
              "      <td>22</td>\n",
              "      <td>Volleyball</td>\n",
              "      <td>51.0</td>\n",
              "      <td>79.0</td>\n",
              "      <td>84.0</td>\n",
              "      <td>30000</td>\n",
              "      <td>Male</td>\n",
              "    </tr>\n",
              "    <tr>\n",
              "      <th>13</th>\n",
              "      <td>14</td>\n",
              "      <td>Kayode Ibrahim</td>\n",
              "      <td>25</td>\n",
              "      <td>Football</td>\n",
              "      <td>58.0</td>\n",
              "      <td>67.0</td>\n",
              "      <td>84.0</td>\n",
              "      <td>31100</td>\n",
              "      <td>Female</td>\n",
              "    </tr>\n",
              "    <tr>\n",
              "      <th>14</th>\n",
              "      <td>15</td>\n",
              "      <td>Nnamdi Ike</td>\n",
              "      <td>26</td>\n",
              "      <td>Swimming</td>\n",
              "      <td>0.0</td>\n",
              "      <td>62.0</td>\n",
              "      <td>88.0</td>\n",
              "      <td>29100</td>\n",
              "      <td>Male</td>\n",
              "    </tr>\n",
              "    <tr>\n",
              "      <th>15</th>\n",
              "      <td>16</td>\n",
              "      <td>Ahmed Musa</td>\n",
              "      <td>24</td>\n",
              "      <td>Football</td>\n",
              "      <td>60.0</td>\n",
              "      <td>90.0</td>\n",
              "      <td>81.0</td>\n",
              "      <td>32400</td>\n",
              "      <td>Male</td>\n",
              "    </tr>\n",
              "    <tr>\n",
              "      <th>16</th>\n",
              "      <td>17</td>\n",
              "      <td>Kevin Frank</td>\n",
              "      <td>25</td>\n",
              "      <td>Tennis</td>\n",
              "      <td>53.0</td>\n",
              "      <td>85.0</td>\n",
              "      <td>74.0</td>\n",
              "      <td>25100</td>\n",
              "      <td>Male</td>\n",
              "    </tr>\n",
              "    <tr>\n",
              "      <th>17</th>\n",
              "      <td>18</td>\n",
              "      <td>Susan James</td>\n",
              "      <td>27</td>\n",
              "      <td>Volleyball</td>\n",
              "      <td>76.0</td>\n",
              "      <td>69.0</td>\n",
              "      <td>54.0</td>\n",
              "      <td>27100</td>\n",
              "      <td>Female</td>\n",
              "    </tr>\n",
              "    <tr>\n",
              "      <th>18</th>\n",
              "      <td>19</td>\n",
              "      <td>Zainab Mohammed</td>\n",
              "      <td>25</td>\n",
              "      <td>Basketball</td>\n",
              "      <td>64.0</td>\n",
              "      <td>95.0</td>\n",
              "      <td>94.0</td>\n",
              "      <td>30000</td>\n",
              "      <td>Female</td>\n",
              "    </tr>\n",
              "    <tr>\n",
              "      <th>19</th>\n",
              "      <td>20</td>\n",
              "      <td>Sesan Obi</td>\n",
              "      <td>26</td>\n",
              "      <td>Swimming</td>\n",
              "      <td>67.0</td>\n",
              "      <td>95.0</td>\n",
              "      <td>71.0</td>\n",
              "      <td>25700</td>\n",
              "      <td>Female</td>\n",
              "    </tr>\n",
              "  </tbody>\n",
              "</table>\n",
              "</div>"
            ],
            "text/plain": [
              "    student_id              name  age  ... English_score  amount_paid  Gender\n",
              "0            1  Emmanuel Ayomide   27  ...          65.0        29600    Male\n",
              "1            2      Ibrahim Musa   24  ...          80.0        30000    Male\n",
              "2            3         Sesan Obi   24  ...          71.0        40000  Female\n",
              "3            4       Kevin Frank   25  ...          74.0        26100    Male\n",
              "4            5        Emeka Jude   24  ...          93.0        26410    Male\n",
              "5            6      Caroline Obi   27  ...          79.0        31200  Female\n",
              "6            7  Franklin Oladele   18  ...          70.0        29800    Male\n",
              "7            8          Kola Ola   28  ...          58.0        40000  Female\n",
              "8            9      Emmanuel Ovi   23  ...          68.0        32500  Female\n",
              "9           10       Kareem Musa   24  ...          86.0        30000  Female\n",
              "10          11    Mustapha Ahmed   24  ...           0.0        26500    Male\n",
              "11          12         Femi Akin   24  ...          85.0        40000    Male\n",
              "12          13     Tobi Olaniyan   22  ...          84.0        30000    Male\n",
              "13          14    Kayode Ibrahim   25  ...          84.0        31100  Female\n",
              "14          15        Nnamdi Ike   26  ...          88.0        29100    Male\n",
              "15          16        Ahmed Musa   24  ...          81.0        32400    Male\n",
              "16          17       Kevin Frank   25  ...          74.0        25100    Male\n",
              "17          18       Susan James   27  ...          54.0        27100  Female\n",
              "18          19   Zainab Mohammed   25  ...          94.0        30000  Female\n",
              "19          20         Sesan Obi   26  ...          71.0        25700  Female\n",
              "\n",
              "[20 rows x 9 columns]"
            ]
          },
          "metadata": {},
          "execution_count": 167
        }
      ]
    },
    {
      "cell_type": "code",
      "metadata": {
        "id": "d703duyd-G0D",
        "colab": {
          "base_uri": "https://localhost:8080/",
          "height": 676
        },
        "outputId": "a9b01dee-8159-46ed-a4f3-1d8532a19618"
      },
      "source": [
        "# Use forward fill(ffill) to fill the null values\n",
        "students.fillna(method= 'ffill')"
      ],
      "execution_count": 168,
      "outputs": [
        {
          "output_type": "execute_result",
          "data": {
            "text/html": [
              "<div>\n",
              "<style scoped>\n",
              "    .dataframe tbody tr th:only-of-type {\n",
              "        vertical-align: middle;\n",
              "    }\n",
              "\n",
              "    .dataframe tbody tr th {\n",
              "        vertical-align: top;\n",
              "    }\n",
              "\n",
              "    .dataframe thead th {\n",
              "        text-align: right;\n",
              "    }\n",
              "</style>\n",
              "<table border=\"1\" class=\"dataframe\">\n",
              "  <thead>\n",
              "    <tr style=\"text-align: right;\">\n",
              "      <th></th>\n",
              "      <th>student_id</th>\n",
              "      <th>name</th>\n",
              "      <th>age</th>\n",
              "      <th>sport</th>\n",
              "      <th>Biology_score</th>\n",
              "      <th>Maths_score</th>\n",
              "      <th>English_score</th>\n",
              "      <th>amount_paid</th>\n",
              "      <th>Gender</th>\n",
              "    </tr>\n",
              "  </thead>\n",
              "  <tbody>\n",
              "    <tr>\n",
              "      <th>0</th>\n",
              "      <td>1</td>\n",
              "      <td>Emmanuel Ayomide</td>\n",
              "      <td>27</td>\n",
              "      <td>Football</td>\n",
              "      <td>73.0</td>\n",
              "      <td>58.0</td>\n",
              "      <td>65.0</td>\n",
              "      <td>29600</td>\n",
              "      <td>Male</td>\n",
              "    </tr>\n",
              "    <tr>\n",
              "      <th>1</th>\n",
              "      <td>2</td>\n",
              "      <td>Ibrahim Musa</td>\n",
              "      <td>24</td>\n",
              "      <td>Football</td>\n",
              "      <td>92.0</td>\n",
              "      <td>56.0</td>\n",
              "      <td>80.0</td>\n",
              "      <td>30000</td>\n",
              "      <td>Male</td>\n",
              "    </tr>\n",
              "    <tr>\n",
              "      <th>2</th>\n",
              "      <td>3</td>\n",
              "      <td>Sesan Obi</td>\n",
              "      <td>24</td>\n",
              "      <td>Swimming</td>\n",
              "      <td>67.0</td>\n",
              "      <td>95.0</td>\n",
              "      <td>71.0</td>\n",
              "      <td>40000</td>\n",
              "      <td>Female</td>\n",
              "    </tr>\n",
              "    <tr>\n",
              "      <th>3</th>\n",
              "      <td>4</td>\n",
              "      <td>Kevin Frank</td>\n",
              "      <td>25</td>\n",
              "      <td>Tennis</td>\n",
              "      <td>53.0</td>\n",
              "      <td>85.0</td>\n",
              "      <td>74.0</td>\n",
              "      <td>26100</td>\n",
              "      <td>Male</td>\n",
              "    </tr>\n",
              "    <tr>\n",
              "      <th>4</th>\n",
              "      <td>5</td>\n",
              "      <td>Emeka Jude</td>\n",
              "      <td>24</td>\n",
              "      <td>Basketball</td>\n",
              "      <td>86.0</td>\n",
              "      <td>80.0</td>\n",
              "      <td>93.0</td>\n",
              "      <td>26410</td>\n",
              "      <td>Male</td>\n",
              "    </tr>\n",
              "    <tr>\n",
              "      <th>5</th>\n",
              "      <td>6</td>\n",
              "      <td>Caroline Obi</td>\n",
              "      <td>27</td>\n",
              "      <td>Basketball</td>\n",
              "      <td>92.0</td>\n",
              "      <td>71.0</td>\n",
              "      <td>79.0</td>\n",
              "      <td>31200</td>\n",
              "      <td>Female</td>\n",
              "    </tr>\n",
              "    <tr>\n",
              "      <th>6</th>\n",
              "      <td>7</td>\n",
              "      <td>Franklin Oladele</td>\n",
              "      <td>18</td>\n",
              "      <td>Football</td>\n",
              "      <td>96.0</td>\n",
              "      <td>71.0</td>\n",
              "      <td>70.0</td>\n",
              "      <td>29800</td>\n",
              "      <td>Male</td>\n",
              "    </tr>\n",
              "    <tr>\n",
              "      <th>7</th>\n",
              "      <td>8</td>\n",
              "      <td>Kola Ola</td>\n",
              "      <td>28</td>\n",
              "      <td>Swimming</td>\n",
              "      <td>82.0</td>\n",
              "      <td>95.0</td>\n",
              "      <td>58.0</td>\n",
              "      <td>40000</td>\n",
              "      <td>Female</td>\n",
              "    </tr>\n",
              "    <tr>\n",
              "      <th>8</th>\n",
              "      <td>9</td>\n",
              "      <td>Emmanuel Ovi</td>\n",
              "      <td>23</td>\n",
              "      <td>Tennis</td>\n",
              "      <td>79.0</td>\n",
              "      <td>61.0</td>\n",
              "      <td>68.0</td>\n",
              "      <td>32500</td>\n",
              "      <td>Female</td>\n",
              "    </tr>\n",
              "    <tr>\n",
              "      <th>9</th>\n",
              "      <td>10</td>\n",
              "      <td>Kareem Musa</td>\n",
              "      <td>24</td>\n",
              "      <td>Football</td>\n",
              "      <td>78.0</td>\n",
              "      <td>73.0</td>\n",
              "      <td>86.0</td>\n",
              "      <td>30000</td>\n",
              "      <td>Female</td>\n",
              "    </tr>\n",
              "    <tr>\n",
              "      <th>10</th>\n",
              "      <td>11</td>\n",
              "      <td>Mustapha Ahmed</td>\n",
              "      <td>24</td>\n",
              "      <td>Football</td>\n",
              "      <td>88.0</td>\n",
              "      <td>84.0</td>\n",
              "      <td>86.0</td>\n",
              "      <td>26500</td>\n",
              "      <td>Male</td>\n",
              "    </tr>\n",
              "    <tr>\n",
              "      <th>11</th>\n",
              "      <td>12</td>\n",
              "      <td>Femi Akin</td>\n",
              "      <td>24</td>\n",
              "      <td>Tennis</td>\n",
              "      <td>90.0</td>\n",
              "      <td>97.0</td>\n",
              "      <td>85.0</td>\n",
              "      <td>40000</td>\n",
              "      <td>Male</td>\n",
              "    </tr>\n",
              "    <tr>\n",
              "      <th>12</th>\n",
              "      <td>13</td>\n",
              "      <td>Tobi Olaniyan</td>\n",
              "      <td>22</td>\n",
              "      <td>Volleyball</td>\n",
              "      <td>51.0</td>\n",
              "      <td>79.0</td>\n",
              "      <td>84.0</td>\n",
              "      <td>30000</td>\n",
              "      <td>Male</td>\n",
              "    </tr>\n",
              "    <tr>\n",
              "      <th>13</th>\n",
              "      <td>14</td>\n",
              "      <td>Kayode Ibrahim</td>\n",
              "      <td>25</td>\n",
              "      <td>Football</td>\n",
              "      <td>58.0</td>\n",
              "      <td>67.0</td>\n",
              "      <td>84.0</td>\n",
              "      <td>31100</td>\n",
              "      <td>Female</td>\n",
              "    </tr>\n",
              "    <tr>\n",
              "      <th>14</th>\n",
              "      <td>15</td>\n",
              "      <td>Nnamdi Ike</td>\n",
              "      <td>26</td>\n",
              "      <td>Swimming</td>\n",
              "      <td>58.0</td>\n",
              "      <td>62.0</td>\n",
              "      <td>88.0</td>\n",
              "      <td>29100</td>\n",
              "      <td>Male</td>\n",
              "    </tr>\n",
              "    <tr>\n",
              "      <th>15</th>\n",
              "      <td>16</td>\n",
              "      <td>Ahmed Musa</td>\n",
              "      <td>24</td>\n",
              "      <td>Football</td>\n",
              "      <td>60.0</td>\n",
              "      <td>90.0</td>\n",
              "      <td>81.0</td>\n",
              "      <td>32400</td>\n",
              "      <td>Male</td>\n",
              "    </tr>\n",
              "    <tr>\n",
              "      <th>16</th>\n",
              "      <td>17</td>\n",
              "      <td>Kevin Frank</td>\n",
              "      <td>25</td>\n",
              "      <td>Tennis</td>\n",
              "      <td>53.0</td>\n",
              "      <td>85.0</td>\n",
              "      <td>74.0</td>\n",
              "      <td>25100</td>\n",
              "      <td>Male</td>\n",
              "    </tr>\n",
              "    <tr>\n",
              "      <th>17</th>\n",
              "      <td>18</td>\n",
              "      <td>Susan James</td>\n",
              "      <td>27</td>\n",
              "      <td>Volleyball</td>\n",
              "      <td>76.0</td>\n",
              "      <td>69.0</td>\n",
              "      <td>54.0</td>\n",
              "      <td>27100</td>\n",
              "      <td>Female</td>\n",
              "    </tr>\n",
              "    <tr>\n",
              "      <th>18</th>\n",
              "      <td>19</td>\n",
              "      <td>Zainab Mohammed</td>\n",
              "      <td>25</td>\n",
              "      <td>Basketball</td>\n",
              "      <td>64.0</td>\n",
              "      <td>95.0</td>\n",
              "      <td>94.0</td>\n",
              "      <td>30000</td>\n",
              "      <td>Female</td>\n",
              "    </tr>\n",
              "    <tr>\n",
              "      <th>19</th>\n",
              "      <td>20</td>\n",
              "      <td>Sesan Obi</td>\n",
              "      <td>26</td>\n",
              "      <td>Swimming</td>\n",
              "      <td>67.0</td>\n",
              "      <td>95.0</td>\n",
              "      <td>71.0</td>\n",
              "      <td>25700</td>\n",
              "      <td>Female</td>\n",
              "    </tr>\n",
              "  </tbody>\n",
              "</table>\n",
              "</div>"
            ],
            "text/plain": [
              "    student_id              name  age  ... English_score  amount_paid  Gender\n",
              "0            1  Emmanuel Ayomide   27  ...          65.0        29600    Male\n",
              "1            2      Ibrahim Musa   24  ...          80.0        30000    Male\n",
              "2            3         Sesan Obi   24  ...          71.0        40000  Female\n",
              "3            4       Kevin Frank   25  ...          74.0        26100    Male\n",
              "4            5        Emeka Jude   24  ...          93.0        26410    Male\n",
              "5            6      Caroline Obi   27  ...          79.0        31200  Female\n",
              "6            7  Franklin Oladele   18  ...          70.0        29800    Male\n",
              "7            8          Kola Ola   28  ...          58.0        40000  Female\n",
              "8            9      Emmanuel Ovi   23  ...          68.0        32500  Female\n",
              "9           10       Kareem Musa   24  ...          86.0        30000  Female\n",
              "10          11    Mustapha Ahmed   24  ...          86.0        26500    Male\n",
              "11          12         Femi Akin   24  ...          85.0        40000    Male\n",
              "12          13     Tobi Olaniyan   22  ...          84.0        30000    Male\n",
              "13          14    Kayode Ibrahim   25  ...          84.0        31100  Female\n",
              "14          15        Nnamdi Ike   26  ...          88.0        29100    Male\n",
              "15          16        Ahmed Musa   24  ...          81.0        32400    Male\n",
              "16          17       Kevin Frank   25  ...          74.0        25100    Male\n",
              "17          18       Susan James   27  ...          54.0        27100  Female\n",
              "18          19   Zainab Mohammed   25  ...          94.0        30000  Female\n",
              "19          20         Sesan Obi   26  ...          71.0        25700  Female\n",
              "\n",
              "[20 rows x 9 columns]"
            ]
          },
          "metadata": {},
          "execution_count": 168
        }
      ]
    },
    {
      "cell_type": "code",
      "metadata": {
        "id": "rwjeONT6-L7O",
        "colab": {
          "base_uri": "https://localhost:8080/",
          "height": 676
        },
        "outputId": "876edb83-95e2-4e88-d396-97af957f4919"
      },
      "source": [
        "# Using backward filling\n",
        "students.fillna(method= 'bfill')"
      ],
      "execution_count": 169,
      "outputs": [
        {
          "output_type": "execute_result",
          "data": {
            "text/html": [
              "<div>\n",
              "<style scoped>\n",
              "    .dataframe tbody tr th:only-of-type {\n",
              "        vertical-align: middle;\n",
              "    }\n",
              "\n",
              "    .dataframe tbody tr th {\n",
              "        vertical-align: top;\n",
              "    }\n",
              "\n",
              "    .dataframe thead th {\n",
              "        text-align: right;\n",
              "    }\n",
              "</style>\n",
              "<table border=\"1\" class=\"dataframe\">\n",
              "  <thead>\n",
              "    <tr style=\"text-align: right;\">\n",
              "      <th></th>\n",
              "      <th>student_id</th>\n",
              "      <th>name</th>\n",
              "      <th>age</th>\n",
              "      <th>sport</th>\n",
              "      <th>Biology_score</th>\n",
              "      <th>Maths_score</th>\n",
              "      <th>English_score</th>\n",
              "      <th>amount_paid</th>\n",
              "      <th>Gender</th>\n",
              "    </tr>\n",
              "  </thead>\n",
              "  <tbody>\n",
              "    <tr>\n",
              "      <th>0</th>\n",
              "      <td>1</td>\n",
              "      <td>Emmanuel Ayomide</td>\n",
              "      <td>27</td>\n",
              "      <td>Football</td>\n",
              "      <td>73.0</td>\n",
              "      <td>58.0</td>\n",
              "      <td>65.0</td>\n",
              "      <td>29600</td>\n",
              "      <td>Male</td>\n",
              "    </tr>\n",
              "    <tr>\n",
              "      <th>1</th>\n",
              "      <td>2</td>\n",
              "      <td>Ibrahim Musa</td>\n",
              "      <td>24</td>\n",
              "      <td>Football</td>\n",
              "      <td>92.0</td>\n",
              "      <td>56.0</td>\n",
              "      <td>80.0</td>\n",
              "      <td>30000</td>\n",
              "      <td>Male</td>\n",
              "    </tr>\n",
              "    <tr>\n",
              "      <th>2</th>\n",
              "      <td>3</td>\n",
              "      <td>Sesan Obi</td>\n",
              "      <td>24</td>\n",
              "      <td>Swimming</td>\n",
              "      <td>67.0</td>\n",
              "      <td>95.0</td>\n",
              "      <td>71.0</td>\n",
              "      <td>40000</td>\n",
              "      <td>Female</td>\n",
              "    </tr>\n",
              "    <tr>\n",
              "      <th>3</th>\n",
              "      <td>4</td>\n",
              "      <td>Kevin Frank</td>\n",
              "      <td>25</td>\n",
              "      <td>Tennis</td>\n",
              "      <td>53.0</td>\n",
              "      <td>85.0</td>\n",
              "      <td>74.0</td>\n",
              "      <td>26100</td>\n",
              "      <td>Male</td>\n",
              "    </tr>\n",
              "    <tr>\n",
              "      <th>4</th>\n",
              "      <td>5</td>\n",
              "      <td>Emeka Jude</td>\n",
              "      <td>24</td>\n",
              "      <td>Basketball</td>\n",
              "      <td>86.0</td>\n",
              "      <td>80.0</td>\n",
              "      <td>93.0</td>\n",
              "      <td>26410</td>\n",
              "      <td>Male</td>\n",
              "    </tr>\n",
              "    <tr>\n",
              "      <th>5</th>\n",
              "      <td>6</td>\n",
              "      <td>Caroline Obi</td>\n",
              "      <td>27</td>\n",
              "      <td>Basketball</td>\n",
              "      <td>92.0</td>\n",
              "      <td>71.0</td>\n",
              "      <td>79.0</td>\n",
              "      <td>31200</td>\n",
              "      <td>Female</td>\n",
              "    </tr>\n",
              "    <tr>\n",
              "      <th>6</th>\n",
              "      <td>7</td>\n",
              "      <td>Franklin Oladele</td>\n",
              "      <td>18</td>\n",
              "      <td>Football</td>\n",
              "      <td>96.0</td>\n",
              "      <td>95.0</td>\n",
              "      <td>70.0</td>\n",
              "      <td>29800</td>\n",
              "      <td>Male</td>\n",
              "    </tr>\n",
              "    <tr>\n",
              "      <th>7</th>\n",
              "      <td>8</td>\n",
              "      <td>Kola Ola</td>\n",
              "      <td>28</td>\n",
              "      <td>Swimming</td>\n",
              "      <td>82.0</td>\n",
              "      <td>95.0</td>\n",
              "      <td>58.0</td>\n",
              "      <td>40000</td>\n",
              "      <td>Female</td>\n",
              "    </tr>\n",
              "    <tr>\n",
              "      <th>8</th>\n",
              "      <td>9</td>\n",
              "      <td>Emmanuel Ovi</td>\n",
              "      <td>23</td>\n",
              "      <td>Tennis</td>\n",
              "      <td>79.0</td>\n",
              "      <td>61.0</td>\n",
              "      <td>68.0</td>\n",
              "      <td>32500</td>\n",
              "      <td>Female</td>\n",
              "    </tr>\n",
              "    <tr>\n",
              "      <th>9</th>\n",
              "      <td>10</td>\n",
              "      <td>Kareem Musa</td>\n",
              "      <td>24</td>\n",
              "      <td>Football</td>\n",
              "      <td>78.0</td>\n",
              "      <td>73.0</td>\n",
              "      <td>86.0</td>\n",
              "      <td>30000</td>\n",
              "      <td>Female</td>\n",
              "    </tr>\n",
              "    <tr>\n",
              "      <th>10</th>\n",
              "      <td>11</td>\n",
              "      <td>Mustapha Ahmed</td>\n",
              "      <td>24</td>\n",
              "      <td>Tennis</td>\n",
              "      <td>88.0</td>\n",
              "      <td>84.0</td>\n",
              "      <td>85.0</td>\n",
              "      <td>26500</td>\n",
              "      <td>Male</td>\n",
              "    </tr>\n",
              "    <tr>\n",
              "      <th>11</th>\n",
              "      <td>12</td>\n",
              "      <td>Femi Akin</td>\n",
              "      <td>24</td>\n",
              "      <td>Tennis</td>\n",
              "      <td>90.0</td>\n",
              "      <td>97.0</td>\n",
              "      <td>85.0</td>\n",
              "      <td>40000</td>\n",
              "      <td>Male</td>\n",
              "    </tr>\n",
              "    <tr>\n",
              "      <th>12</th>\n",
              "      <td>13</td>\n",
              "      <td>Tobi Olaniyan</td>\n",
              "      <td>22</td>\n",
              "      <td>Volleyball</td>\n",
              "      <td>51.0</td>\n",
              "      <td>79.0</td>\n",
              "      <td>84.0</td>\n",
              "      <td>30000</td>\n",
              "      <td>Male</td>\n",
              "    </tr>\n",
              "    <tr>\n",
              "      <th>13</th>\n",
              "      <td>14</td>\n",
              "      <td>Kayode Ibrahim</td>\n",
              "      <td>25</td>\n",
              "      <td>Football</td>\n",
              "      <td>58.0</td>\n",
              "      <td>67.0</td>\n",
              "      <td>84.0</td>\n",
              "      <td>31100</td>\n",
              "      <td>Female</td>\n",
              "    </tr>\n",
              "    <tr>\n",
              "      <th>14</th>\n",
              "      <td>15</td>\n",
              "      <td>Nnamdi Ike</td>\n",
              "      <td>26</td>\n",
              "      <td>Swimming</td>\n",
              "      <td>60.0</td>\n",
              "      <td>62.0</td>\n",
              "      <td>88.0</td>\n",
              "      <td>29100</td>\n",
              "      <td>Male</td>\n",
              "    </tr>\n",
              "    <tr>\n",
              "      <th>15</th>\n",
              "      <td>16</td>\n",
              "      <td>Ahmed Musa</td>\n",
              "      <td>24</td>\n",
              "      <td>Football</td>\n",
              "      <td>60.0</td>\n",
              "      <td>90.0</td>\n",
              "      <td>81.0</td>\n",
              "      <td>32400</td>\n",
              "      <td>Male</td>\n",
              "    </tr>\n",
              "    <tr>\n",
              "      <th>16</th>\n",
              "      <td>17</td>\n",
              "      <td>Kevin Frank</td>\n",
              "      <td>25</td>\n",
              "      <td>Tennis</td>\n",
              "      <td>53.0</td>\n",
              "      <td>85.0</td>\n",
              "      <td>74.0</td>\n",
              "      <td>25100</td>\n",
              "      <td>Male</td>\n",
              "    </tr>\n",
              "    <tr>\n",
              "      <th>17</th>\n",
              "      <td>18</td>\n",
              "      <td>Susan James</td>\n",
              "      <td>27</td>\n",
              "      <td>Volleyball</td>\n",
              "      <td>76.0</td>\n",
              "      <td>69.0</td>\n",
              "      <td>54.0</td>\n",
              "      <td>27100</td>\n",
              "      <td>Female</td>\n",
              "    </tr>\n",
              "    <tr>\n",
              "      <th>18</th>\n",
              "      <td>19</td>\n",
              "      <td>Zainab Mohammed</td>\n",
              "      <td>25</td>\n",
              "      <td>Basketball</td>\n",
              "      <td>64.0</td>\n",
              "      <td>95.0</td>\n",
              "      <td>94.0</td>\n",
              "      <td>30000</td>\n",
              "      <td>Female</td>\n",
              "    </tr>\n",
              "    <tr>\n",
              "      <th>19</th>\n",
              "      <td>20</td>\n",
              "      <td>Sesan Obi</td>\n",
              "      <td>26</td>\n",
              "      <td>Swimming</td>\n",
              "      <td>67.0</td>\n",
              "      <td>95.0</td>\n",
              "      <td>71.0</td>\n",
              "      <td>25700</td>\n",
              "      <td>Female</td>\n",
              "    </tr>\n",
              "  </tbody>\n",
              "</table>\n",
              "</div>"
            ],
            "text/plain": [
              "    student_id              name  age  ... English_score  amount_paid  Gender\n",
              "0            1  Emmanuel Ayomide   27  ...          65.0        29600    Male\n",
              "1            2      Ibrahim Musa   24  ...          80.0        30000    Male\n",
              "2            3         Sesan Obi   24  ...          71.0        40000  Female\n",
              "3            4       Kevin Frank   25  ...          74.0        26100    Male\n",
              "4            5        Emeka Jude   24  ...          93.0        26410    Male\n",
              "5            6      Caroline Obi   27  ...          79.0        31200  Female\n",
              "6            7  Franklin Oladele   18  ...          70.0        29800    Male\n",
              "7            8          Kola Ola   28  ...          58.0        40000  Female\n",
              "8            9      Emmanuel Ovi   23  ...          68.0        32500  Female\n",
              "9           10       Kareem Musa   24  ...          86.0        30000  Female\n",
              "10          11    Mustapha Ahmed   24  ...          85.0        26500    Male\n",
              "11          12         Femi Akin   24  ...          85.0        40000    Male\n",
              "12          13     Tobi Olaniyan   22  ...          84.0        30000    Male\n",
              "13          14    Kayode Ibrahim   25  ...          84.0        31100  Female\n",
              "14          15        Nnamdi Ike   26  ...          88.0        29100    Male\n",
              "15          16        Ahmed Musa   24  ...          81.0        32400    Male\n",
              "16          17       Kevin Frank   25  ...          74.0        25100    Male\n",
              "17          18       Susan James   27  ...          54.0        27100  Female\n",
              "18          19   Zainab Mohammed   25  ...          94.0        30000  Female\n",
              "19          20         Sesan Obi   26  ...          71.0        25700  Female\n",
              "\n",
              "[20 rows x 9 columns]"
            ]
          },
          "metadata": {},
          "execution_count": 169
        }
      ]
    },
    {
      "cell_type": "code",
      "metadata": {
        "id": "sE_tU8bk-Ulm",
        "colab": {
          "base_uri": "https://localhost:8080/",
          "height": 582
        },
        "outputId": "83300024-d34f-4991-8c4c-1b6b08e6a88b"
      },
      "source": [
        "# To drop missing Data\n",
        "students.dropna()"
      ],
      "execution_count": 170,
      "outputs": [
        {
          "output_type": "execute_result",
          "data": {
            "text/html": [
              "<div>\n",
              "<style scoped>\n",
              "    .dataframe tbody tr th:only-of-type {\n",
              "        vertical-align: middle;\n",
              "    }\n",
              "\n",
              "    .dataframe tbody tr th {\n",
              "        vertical-align: top;\n",
              "    }\n",
              "\n",
              "    .dataframe thead th {\n",
              "        text-align: right;\n",
              "    }\n",
              "</style>\n",
              "<table border=\"1\" class=\"dataframe\">\n",
              "  <thead>\n",
              "    <tr style=\"text-align: right;\">\n",
              "      <th></th>\n",
              "      <th>student_id</th>\n",
              "      <th>name</th>\n",
              "      <th>age</th>\n",
              "      <th>sport</th>\n",
              "      <th>Biology_score</th>\n",
              "      <th>Maths_score</th>\n",
              "      <th>English_score</th>\n",
              "      <th>amount_paid</th>\n",
              "      <th>Gender</th>\n",
              "    </tr>\n",
              "  </thead>\n",
              "  <tbody>\n",
              "    <tr>\n",
              "      <th>0</th>\n",
              "      <td>1</td>\n",
              "      <td>Emmanuel Ayomide</td>\n",
              "      <td>27</td>\n",
              "      <td>Football</td>\n",
              "      <td>73.0</td>\n",
              "      <td>58.0</td>\n",
              "      <td>65.0</td>\n",
              "      <td>29600</td>\n",
              "      <td>Male</td>\n",
              "    </tr>\n",
              "    <tr>\n",
              "      <th>1</th>\n",
              "      <td>2</td>\n",
              "      <td>Ibrahim Musa</td>\n",
              "      <td>24</td>\n",
              "      <td>Football</td>\n",
              "      <td>92.0</td>\n",
              "      <td>56.0</td>\n",
              "      <td>80.0</td>\n",
              "      <td>30000</td>\n",
              "      <td>Male</td>\n",
              "    </tr>\n",
              "    <tr>\n",
              "      <th>2</th>\n",
              "      <td>3</td>\n",
              "      <td>Sesan Obi</td>\n",
              "      <td>24</td>\n",
              "      <td>Swimming</td>\n",
              "      <td>67.0</td>\n",
              "      <td>95.0</td>\n",
              "      <td>71.0</td>\n",
              "      <td>40000</td>\n",
              "      <td>Female</td>\n",
              "    </tr>\n",
              "    <tr>\n",
              "      <th>3</th>\n",
              "      <td>4</td>\n",
              "      <td>Kevin Frank</td>\n",
              "      <td>25</td>\n",
              "      <td>Tennis</td>\n",
              "      <td>53.0</td>\n",
              "      <td>85.0</td>\n",
              "      <td>74.0</td>\n",
              "      <td>26100</td>\n",
              "      <td>Male</td>\n",
              "    </tr>\n",
              "    <tr>\n",
              "      <th>4</th>\n",
              "      <td>5</td>\n",
              "      <td>Emeka Jude</td>\n",
              "      <td>24</td>\n",
              "      <td>Basketball</td>\n",
              "      <td>86.0</td>\n",
              "      <td>80.0</td>\n",
              "      <td>93.0</td>\n",
              "      <td>26410</td>\n",
              "      <td>Male</td>\n",
              "    </tr>\n",
              "    <tr>\n",
              "      <th>5</th>\n",
              "      <td>6</td>\n",
              "      <td>Caroline Obi</td>\n",
              "      <td>27</td>\n",
              "      <td>Basketball</td>\n",
              "      <td>92.0</td>\n",
              "      <td>71.0</td>\n",
              "      <td>79.0</td>\n",
              "      <td>31200</td>\n",
              "      <td>Female</td>\n",
              "    </tr>\n",
              "    <tr>\n",
              "      <th>7</th>\n",
              "      <td>8</td>\n",
              "      <td>Kola Ola</td>\n",
              "      <td>28</td>\n",
              "      <td>Swimming</td>\n",
              "      <td>82.0</td>\n",
              "      <td>95.0</td>\n",
              "      <td>58.0</td>\n",
              "      <td>40000</td>\n",
              "      <td>Female</td>\n",
              "    </tr>\n",
              "    <tr>\n",
              "      <th>8</th>\n",
              "      <td>9</td>\n",
              "      <td>Emmanuel Ovi</td>\n",
              "      <td>23</td>\n",
              "      <td>Tennis</td>\n",
              "      <td>79.0</td>\n",
              "      <td>61.0</td>\n",
              "      <td>68.0</td>\n",
              "      <td>32500</td>\n",
              "      <td>Female</td>\n",
              "    </tr>\n",
              "    <tr>\n",
              "      <th>9</th>\n",
              "      <td>10</td>\n",
              "      <td>Kareem Musa</td>\n",
              "      <td>24</td>\n",
              "      <td>Football</td>\n",
              "      <td>78.0</td>\n",
              "      <td>73.0</td>\n",
              "      <td>86.0</td>\n",
              "      <td>30000</td>\n",
              "      <td>Female</td>\n",
              "    </tr>\n",
              "    <tr>\n",
              "      <th>11</th>\n",
              "      <td>12</td>\n",
              "      <td>Femi Akin</td>\n",
              "      <td>24</td>\n",
              "      <td>Tennis</td>\n",
              "      <td>90.0</td>\n",
              "      <td>97.0</td>\n",
              "      <td>85.0</td>\n",
              "      <td>40000</td>\n",
              "      <td>Male</td>\n",
              "    </tr>\n",
              "    <tr>\n",
              "      <th>12</th>\n",
              "      <td>13</td>\n",
              "      <td>Tobi Olaniyan</td>\n",
              "      <td>22</td>\n",
              "      <td>Volleyball</td>\n",
              "      <td>51.0</td>\n",
              "      <td>79.0</td>\n",
              "      <td>84.0</td>\n",
              "      <td>30000</td>\n",
              "      <td>Male</td>\n",
              "    </tr>\n",
              "    <tr>\n",
              "      <th>13</th>\n",
              "      <td>14</td>\n",
              "      <td>Kayode Ibrahim</td>\n",
              "      <td>25</td>\n",
              "      <td>Football</td>\n",
              "      <td>58.0</td>\n",
              "      <td>67.0</td>\n",
              "      <td>84.0</td>\n",
              "      <td>31100</td>\n",
              "      <td>Female</td>\n",
              "    </tr>\n",
              "    <tr>\n",
              "      <th>15</th>\n",
              "      <td>16</td>\n",
              "      <td>Ahmed Musa</td>\n",
              "      <td>24</td>\n",
              "      <td>Football</td>\n",
              "      <td>60.0</td>\n",
              "      <td>90.0</td>\n",
              "      <td>81.0</td>\n",
              "      <td>32400</td>\n",
              "      <td>Male</td>\n",
              "    </tr>\n",
              "    <tr>\n",
              "      <th>16</th>\n",
              "      <td>17</td>\n",
              "      <td>Kevin Frank</td>\n",
              "      <td>25</td>\n",
              "      <td>Tennis</td>\n",
              "      <td>53.0</td>\n",
              "      <td>85.0</td>\n",
              "      <td>74.0</td>\n",
              "      <td>25100</td>\n",
              "      <td>Male</td>\n",
              "    </tr>\n",
              "    <tr>\n",
              "      <th>17</th>\n",
              "      <td>18</td>\n",
              "      <td>Susan James</td>\n",
              "      <td>27</td>\n",
              "      <td>Volleyball</td>\n",
              "      <td>76.0</td>\n",
              "      <td>69.0</td>\n",
              "      <td>54.0</td>\n",
              "      <td>27100</td>\n",
              "      <td>Female</td>\n",
              "    </tr>\n",
              "    <tr>\n",
              "      <th>18</th>\n",
              "      <td>19</td>\n",
              "      <td>Zainab Mohammed</td>\n",
              "      <td>25</td>\n",
              "      <td>Basketball</td>\n",
              "      <td>64.0</td>\n",
              "      <td>95.0</td>\n",
              "      <td>94.0</td>\n",
              "      <td>30000</td>\n",
              "      <td>Female</td>\n",
              "    </tr>\n",
              "    <tr>\n",
              "      <th>19</th>\n",
              "      <td>20</td>\n",
              "      <td>Sesan Obi</td>\n",
              "      <td>26</td>\n",
              "      <td>Swimming</td>\n",
              "      <td>67.0</td>\n",
              "      <td>95.0</td>\n",
              "      <td>71.0</td>\n",
              "      <td>25700</td>\n",
              "      <td>Female</td>\n",
              "    </tr>\n",
              "  </tbody>\n",
              "</table>\n",
              "</div>"
            ],
            "text/plain": [
              "    student_id              name  age  ... English_score  amount_paid  Gender\n",
              "0            1  Emmanuel Ayomide   27  ...          65.0        29600    Male\n",
              "1            2      Ibrahim Musa   24  ...          80.0        30000    Male\n",
              "2            3         Sesan Obi   24  ...          71.0        40000  Female\n",
              "3            4       Kevin Frank   25  ...          74.0        26100    Male\n",
              "4            5        Emeka Jude   24  ...          93.0        26410    Male\n",
              "5            6      Caroline Obi   27  ...          79.0        31200  Female\n",
              "7            8          Kola Ola   28  ...          58.0        40000  Female\n",
              "8            9      Emmanuel Ovi   23  ...          68.0        32500  Female\n",
              "9           10       Kareem Musa   24  ...          86.0        30000  Female\n",
              "11          12         Femi Akin   24  ...          85.0        40000    Male\n",
              "12          13     Tobi Olaniyan   22  ...          84.0        30000    Male\n",
              "13          14    Kayode Ibrahim   25  ...          84.0        31100  Female\n",
              "15          16        Ahmed Musa   24  ...          81.0        32400    Male\n",
              "16          17       Kevin Frank   25  ...          74.0        25100    Male\n",
              "17          18       Susan James   27  ...          54.0        27100  Female\n",
              "18          19   Zainab Mohammed   25  ...          94.0        30000  Female\n",
              "19          20         Sesan Obi   26  ...          71.0        25700  Female\n",
              "\n",
              "[17 rows x 9 columns]"
            ]
          },
          "metadata": {},
          "execution_count": 170
        }
      ]
    },
    {
      "cell_type": "code",
      "metadata": {
        "colab": {
          "base_uri": "https://localhost:8080/"
        },
        "id": "rdEP0zmO4bSa",
        "outputId": "49c4a8ae-5b45-4754-befc-b79e8776e8e3"
      },
      "source": [
        "#using groupby to get the total amount paid per gender\n",
        "students.groupby(['Gender'])['amount_paid'].sum()"
      ],
      "execution_count": 171,
      "outputs": [
        {
          "output_type": "execute_result",
          "data": {
            "text/plain": [
              "Gender\n",
              "Female    287600\n",
              "Male      325010\n",
              "Name: amount_paid, dtype: int64"
            ]
          },
          "metadata": {},
          "execution_count": 171
        }
      ]
    },
    {
      "cell_type": "markdown",
      "metadata": {
        "id": "cZ9CibIV5BzA"
      },
      "source": [
        "### Bar Plot\n",
        "Barplot is a plot that represent categorical data with rectangular bar with lengths proportional to the values that the represents"
      ]
    },
    {
      "cell_type": "code",
      "metadata": {
        "colab": {
          "base_uri": "https://localhost:8080/",
          "height": 305
        },
        "id": "tUgGtd0P5DZW",
        "outputId": "b168ed26-a4fe-4171-fda7-e6122754bebc"
      },
      "source": [
        "#Using barplot to represent the otam amount paid per gender\n",
        "students.groupby(['Gender'])['amount_paid'].sum().plot.bar();"
      ],
      "execution_count": 172,
      "outputs": [
        {
          "output_type": "display_data",
          "data": {
            "image/png": "[encoded data removed]",
            "text/plain": [
              "<Figure size 432x288 with 1 Axes>"
            ]
          },
          "metadata": {
            "needs_background": "light"
          }
        }
      ]
    },
    {
      "cell_type": "markdown",
      "metadata": {
        "id": "BGjD7vqE5YV-"
      },
      "source": [
        "### Histogram\n",
        "A Histogram is a representation of the distribution of data\n",
        "\n",
        "### Diference Between Barchar and Histogram\n",
        "Bar plot takes care of categorical variable while histogram takes care of contionous variable"
      ]
    },
    {
      "cell_type": "code",
      "metadata": {
        "colab": {
          "base_uri": "https://localhost:8080/",
          "height": 265
        },
        "id": "D_x2CUQe5HMe",
        "outputId": "5e15efa2-14e4-42e8-d193-0f635e148979"
      },
      "source": [
        "#Histogram plot\n",
        "students['amount_paid'].plot.hist();"
      ],
      "execution_count": 173,
      "outputs": [
        {
          "output_type": "display_data",
          "data": {
            "image/png": "[encoded data removed]",
            "text/plain": [
              "<Figure size 432x288 with 1 Axes>"
            ]
          },
          "metadata": {
            "needs_background": "light"
          }
        }
      ]
    },
    {
      "cell_type": "markdown",
      "metadata": {
        "id": "lW79fTdm56gz"
      },
      "source": [
        "### Line plot\n",
        "This functionis useful to plot lines using DataFrame's values as coordinates"
      ]
    },
    {
      "cell_type": "code",
      "metadata": {
        "colab": {
          "base_uri": "https://localhost:8080/",
          "height": 280
        },
        "id": "CBfjQShM5dUV",
        "outputId": "76897c5d-4c1d-46c9-fba5-3be487ebbd50"
      },
      "source": [
        "students.plot.line(x = 'student_id', y = 'amount_paid');"
      ],
      "execution_count": 174,
      "outputs": [
        {
          "output_type": "display_data",
          "data": {
            "image/png": "[encoded data removed]",
            "text/plain": [
              "<Figure size 432x288 with 1 Axes>"
            ]
          },
          "metadata": {
            "needs_background": "light"
          }
        }
      ]
    },
    {
      "cell_type": "markdown",
      "metadata": {
        "id": "ID-LP4sI6NVt"
      },
      "source": [
        "### Create a DataFrame of Random Data"
      ]
    },
    {
      "cell_type": "code",
      "metadata": {
        "id": "YPLklg1n5_9Q"
      },
      "source": [
        "df = pd.DataFrame(np.random.randn(1000, 4), columns = list('ABCD'))"
      ],
      "execution_count": 175,
      "outputs": []
    },
    {
      "cell_type": "markdown",
      "metadata": {
        "id": "05n17tbA6e2v"
      },
      "source": [
        "###Scatter Plot"
      ]
    },
    {
      "cell_type": "code",
      "metadata": {
        "colab": {
          "base_uri": "https://localhost:8080/",
          "height": 279
        },
        "id": "VGCI4Z-c6SKP",
        "outputId": "f1a8e90b-713e-4fd7-a318-c068215be9a4"
      },
      "source": [
        "df.plot.scatter(x = 'A', y = 'B');"
      ],
      "execution_count": 176,
      "outputs": [
        {
          "output_type": "display_data",
          "data": {
            "image/png": "[encoded data removed]",
            "text/plain": [
              "<Figure size 432x288 with 1 Axes>"
            ]
          },
          "metadata": {
            "needs_background": "light"
          }
        }
      ]
    },
    {
      "cell_type": "code",
      "metadata": {
        "colab": {
          "base_uri": "https://localhost:8080/",
          "height": 279
        },
        "id": "yfB808ct6hXi",
        "outputId": "7d0e72bc-a406-4ea6-d850-dc5ef1308dbe"
      },
      "source": [
        "#let's change the color by passing in the 'c' parameter\n",
        "df.plot.scatter(x = 'A', y = 'B', c = 'darkgreen');   #we can change the color to our taste"
      ],
      "execution_count": 177,
      "outputs": [
        {
          "output_type": "display_data",
          "data": {
            "image/png": "[encoded data removed]",
            "text/plain": [
              "<Figure size 432x288 with 1 Axes>"
            ]
          },
          "metadata": {
            "needs_background": "light"
          }
        }
      ]
    },
    {
      "cell_type": "code",
      "metadata": {
        "colab": {
          "base_uri": "https://localhost:8080/",
          "height": 252
        },
        "id": "ekpvPoCy6kru",
        "outputId": "e8ac0ed4-0e87-4833-f7bd-66a1f4f0bb24"
      },
      "source": [
        "#We can also use a column as the color, this will generate a heatmap\n",
        "df.plot.scatter(x = 'A', y = 'B', c = 'C');"
      ],
      "execution_count": 178,
      "outputs": [
        {
          "output_type": "display_data",
          "data": {
            "image/png": "[encoded data removed]",
            "text/plain": [
              "<Figure size 432x288 with 2 Axes>"
            ]
          },
          "metadata": {
            "needs_background": "light"
          }
        }
      ]
    },
    {
      "cell_type": "code",
      "metadata": {
        "id": "kY1URTt96ois"
      },
      "source": [
        ""
      ],
      "execution_count": 178,
      "outputs": []
    }
  ]
}