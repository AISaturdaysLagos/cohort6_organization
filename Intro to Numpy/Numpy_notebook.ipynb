{
  "nbformat": 4,
  "nbformat_minor": 0,
  "metadata": {
    "colab": {
      "name": "Numpy notebook",
      "provenance": [],
      "collapsed_sections": []
    },
    "kernelspec": {
      "name": "python3",
      "display_name": "Python 3"
    },
    "language_info": {
      "name": "python"
    }
  },
  "cells": [
    {
      "cell_type": "markdown",
      "metadata": {
        "id": "BsZDsRrn60q9"
      },
      "source": [
        "# Numpy"
      ]
    },
    {
      "cell_type": "markdown",
      "metadata": {
        "id": "CNvAQihn65-z"
      },
      "source": [
        "#### Importing Numpy"
      ]
    },
    {
      "cell_type": "markdown",
      "metadata": {
        "id": "t3sFQtbp6y62"
      },
      "source": [
        "To import an external Python library such as Numpy, use Python's import function. To save yourself some typing later on, you can give the library you import an alias. Here, we are importing Numpy and giving it an alias of np."
      ]
    },
    {
      "cell_type": "code",
      "metadata": {
        "id": "s_olv58B6zdt"
      },
      "source": [
        "import numpy as np"
      ],
      "execution_count": null,
      "outputs": []
    },
    {
      "cell_type": "markdown",
      "metadata": {
        "id": "arW8wSFb7OZs"
      },
      "source": [
        "### Creating numpy array"
      ]
    },
    {
      "cell_type": "markdown",
      "metadata": {
        "id": "hnS2JZZr1pZK"
      },
      "source": [
        "# 1-D Array"
      ]
    },
    {
      "cell_type": "code",
      "metadata": {
        "colab": {
          "base_uri": "https://localhost:8080/"
        },
        "id": "rJUh2Lh_7BOP",
        "outputId": "19171240-6b49-4a2d-da3e-64749c7bb897"
      },
      "source": [
        "#The np.array function is used to create an array\n",
        "\n",
        "#creating a 1 dimensional array\n",
        "\n",
        "x = np.array([1, 2, 3, 4, 5]) \n",
        "x"
      ],
      "execution_count": null,
      "outputs": [
        {
          "output_type": "execute_result",
          "data": {
            "text/plain": [
              "array([1, 2, 3, 4, 5])"
            ]
          },
          "metadata": {},
          "execution_count": 16
        }
      ]
    },
    {
      "cell_type": "code",
      "metadata": {
        "colab": {
          "base_uri": "https://localhost:8080/"
        },
        "id": "kR4mkNLN7jSM",
        "outputId": "75df2da5-4498-48bd-f870-aba49b6cbc85"
      },
      "source": [
        "#The shape property is usually used to get the current shape of an array\n",
        "x.shape\n"
      ],
      "execution_count": null,
      "outputs": [
        {
          "output_type": "execute_result",
          "data": {
            "text/plain": [
              "(5,)"
            ]
          },
          "metadata": {},
          "execution_count": 17
        }
      ]
    },
    {
      "cell_type": "markdown",
      "metadata": {
        "id": "v-3lNiKg19cm"
      },
      "source": [
        "# 2-D Array"
      ]
    },
    {
      "cell_type": "code",
      "metadata": {
        "colab": {
          "base_uri": "https://localhost:8080/"
        },
        "id": "T6roJS-e9YF0",
        "outputId": "cf5507d9-25f8-451d-aab1-e958823cae24"
      },
      "source": [
        "# Creating a 2D arrays  \n",
        "y = np.array([[1, 2], [3, 4], [5,6]]) \n",
        "y"
      ],
      "execution_count": null,
      "outputs": [
        {
          "output_type": "execute_result",
          "data": {
            "text/plain": [
              "array([[1, 2],\n",
              "       [3, 4],\n",
              "       [5, 6]])"
            ]
          },
          "metadata": {},
          "execution_count": 18
        }
      ]
    },
    {
      "cell_type": "code",
      "metadata": {
        "colab": {
          "base_uri": "https://localhost:8080/"
        },
        "id": "g8fHa3EZN4rK",
        "outputId": "fcb7753d-5001-478f-fb8e-c1b057e93b7b"
      },
      "source": [
        "y.shape"
      ],
      "execution_count": null,
      "outputs": [
        {
          "output_type": "execute_result",
          "data": {
            "text/plain": [
              "(2, 2)"
            ]
          },
          "metadata": {},
          "execution_count": 14
        }
      ]
    },
    {
      "cell_type": "markdown",
      "metadata": {
        "id": "OpTqeJcq451Q"
      },
      "source": [
        "# 3-D Arrays"
      ]
    },
    {
      "cell_type": "code",
      "metadata": {
        "colab": {
          "base_uri": "https://localhost:8080/"
        },
        "id": "yXkLEeplxcmF",
        "outputId": "c15b0864-dd86-4c44-da26-fafca308cc4e"
      },
      "source": [
        "# Creating a 3D arrays  \n",
        "z = np.array([[(1, 2), (3, 4)], [(5, 6), (7, 8)]]) \n",
        "z"
      ],
      "execution_count": null,
      "outputs": [
        {
          "output_type": "execute_result",
          "data": {
            "text/plain": [
              "array([[[1, 2],\n",
              "        [3, 4]],\n",
              "\n",
              "       [[5, 6],\n",
              "        [7, 8]]])"
            ]
          },
          "metadata": {},
          "execution_count": 11
        }
      ]
    },
    {
      "cell_type": "code",
      "metadata": {
        "colab": {
          "base_uri": "https://localhost:8080/"
        },
        "id": "nQkWum6o0dgA",
        "outputId": "958aaeb8-56ea-47e8-8fa8-cdb39b76b8de"
      },
      "source": [
        "z.shape"
      ],
      "execution_count": null,
      "outputs": [
        {
          "output_type": "execute_result",
          "data": {
            "text/plain": [
              "(2, 2, 2)"
            ]
          },
          "metadata": {},
          "execution_count": 12
        }
      ]
    },
    {
      "cell_type": "markdown",
      "metadata": {
        "id": "6OB_-5zL7sBF"
      },
      "source": [
        "# Numpy function"
      ]
    },
    {
      "cell_type": "code",
      "metadata": {
        "id": "U4McMiSQ7uEZ"
      },
      "source": [
        "#Numpy has built-in functions for creating arrays and manipulating.\n",
        "#arange is Used to create arrays with values in a specified range.\n",
        "A = np.arange(25)\n",
        "A"
      ],
      "execution_count": null,
      "outputs": []
    },
    {
      "cell_type": "code",
      "metadata": {
        "id": "_R0MVsNz9xjl"
      },
      "source": [
        "#To change the shape of an array\n",
        "B = A.reshape(25,1)\n",
        "C = B.reshape(5,5)\n",
        "C"
      ],
      "execution_count": null,
      "outputs": []
    },
    {
      "cell_type": "markdown",
      "metadata": {
        "id": "QcPAQLgF7zF_"
      },
      "source": [
        "* Note: Before a reshape function will run successful, the multiplication of the two parameter supply to the function must be equal with multiplication of the shape of the original array you want to reshape.\n",
        "For example: The shape of variable B is (25, 1) therefore 25 * 1 = 25\n",
        "The two parameter supply to the reshape function is (5, 5), 5 * 5 = 25\n",
        "\n"
      ]
    },
    {
      "cell_type": "code",
      "metadata": {
        "id": "NJ5ws1hN70rm"
      },
      "source": [
        "#zeros is used to create an array filled with zeros. \n",
        "#ones is used to create an array filled with ones\n",
        "#random.randn is used to create an array filled with random normal entries\n",
        "\n",
        "#1D array\n",
        "np.zeros (3)\n",
        "np.ones (3)\n",
        "np.random.randn (3)"
      ],
      "execution_count": null,
      "outputs": []
    },
    {
      "cell_type": "code",
      "metadata": {
        "id": "uONsjSi6-l4C"
      },
      "source": [
        "#2D array\n",
        "np.zeros((2,5))\n",
        "#np.ones ((2,5))\n",
        "#np.random.randn ((2,5))"
      ],
      "execution_count": null,
      "outputs": []
    },
    {
      "cell_type": "markdown",
      "metadata": {
        "id": "yQzzHBmF8FeP"
      },
      "source": [
        "### Accessing elements of numpy array"
      ]
    },
    {
      "cell_type": "code",
      "metadata": {
        "colab": {
          "base_uri": "https://localhost:8080/"
        },
        "id": "P8d__Gek8JMx",
        "outputId": "37f1296c-2abd-403d-ba04-77f4b5184e97"
      },
      "source": [
        "#To access an element in a two-dimensional array, you need to specify an index for both the row and the column.\n",
        "D = np.array([[5, 7, 8],[3, 5, 9]])\n",
        "D"
      ],
      "execution_count": null,
      "outputs": [
        {
          "output_type": "execute_result",
          "data": {
            "text/plain": [
              "array([[5, 7, 8],\n",
              "       [3, 5, 9]])"
            ]
          },
          "metadata": {
            "tags": []
          },
          "execution_count": 26
        }
      ]
    },
    {
      "cell_type": "code",
      "metadata": {
        "colab": {
          "base_uri": "https://localhost:8080/"
        },
        "id": "9e1XXP7B-Wqg",
        "outputId": "c45468d7-d72c-4b6f-9fd8-89f84d8bc283"
      },
      "source": [
        "# note that for array numbering in numpy, it starts from zero\n",
        "#Row 1, column 0 gives a scalar value\n",
        "D[1,0]"
      ],
      "execution_count": null,
      "outputs": [
        {
          "output_type": "execute_result",
          "data": {
            "text/plain": [
              "3"
            ]
          },
          "metadata": {
            "tags": []
          },
          "execution_count": 28
        }
      ]
    },
    {
      "cell_type": "code",
      "metadata": {
        "colab": {
          "base_uri": "https://localhost:8080/"
        },
        "id": "JLXEnw3h-eeR",
        "outputId": "b3aa5b0c-5e37-4272-eadd-0a7138ce02fc"
      },
      "source": [
        "#Row 1, column 2\n",
        "D[1,2]happy meme template"
      ],
      "execution_count": null,
      "outputs": [
        {
          "output_type": "execute_result",
          "data": {
            "text/plain": [
              "9"
            ]
          },
          "metadata": {
            "tags": []
          },
          "execution_count": 29
        }
      ]
    },
    {
      "cell_type": "markdown",
      "metadata": {
        "id": "DqSMSXm88Nz9"
      },
      "source": [
        "### Basic Numpy Array Math Operations"
      ]
    },
    {
      "cell_type": "code",
      "metadata": {
        "colab": {
          "base_uri": "https://localhost:8080/"
        },
        "id": "hoLdPBWz8OVi",
        "outputId": "8d4e1f3a-6c12-42a6-f7b9-dd1074479925"
      },
      "source": [
        "s = np.array([[1,2,3],[4,5,6]])\n",
        "t = np.array([[2,2,2],[3,3,3]])\n",
        "\n",
        "#Transpose a matrix\n",
        "s.T"
      ],
      "execution_count": null,
      "outputs": [
        {
          "output_type": "execute_result",
          "data": {
            "text/plain": [
              "array([[1, 4],\n",
              "       [2, 5],\n",
              "       [3, 6]])"
            ]
          },
          "metadata": {
            "tags": []
          },
          "execution_count": 30
        }
      ]
    },
    {
      "cell_type": "code",
      "metadata": {
        "colab": {
          "base_uri": "https://localhost:8080/"
        },
        "id": "_7nmmohX8ZMB",
        "outputId": "ef869a74-b6a5-45ab-d523-e9c54fe6a018"
      },
      "source": [
        "#Elementwise addittion\n",
        "np.add(s,t)"
      ],
      "execution_count": null,
      "outputs": [
        {
          "output_type": "execute_result",
          "data": {
            "text/plain": [
              "array([[3, 4, 5],\n",
              "       [7, 8, 9]])"
            ]
          },
          "metadata": {
            "tags": []
          },
          "execution_count": 31
        }
      ]
    },
    {
      "cell_type": "code",
      "metadata": {
        "colab": {
          "base_uri": "https://localhost:8080/"
        },
        "id": "wBt_RTM89_X4",
        "outputId": "0d095afb-f55d-4479-8d26-3c37be84cf2d"
      },
      "source": [
        "#Elementwise Subtraction\n",
        "np.subtract(s,t)"
      ],
      "execution_count": null,
      "outputs": [
        {
          "output_type": "execute_result",
          "data": {
            "text/plain": [
              "array([[-1,  0,  1],\n",
              "       [ 1,  2,  3]])"
            ]
          },
          "metadata": {
            "tags": []
          },
          "execution_count": 32
        }
      ]
    },
    {
      "cell_type": "code",
      "metadata": {
        "colab": {
          "base_uri": "https://localhost:8080/"
        },
        "id": "s3oSWdJG-BQq",
        "outputId": "498bd467-c848-4808-f178-fa7a7a94c08e"
      },
      "source": [
        "#Elementwise Multiplication\n",
        "np.multiply(s,t)"
      ],
      "execution_count": null,
      "outputs": [
        {
          "output_type": "execute_result",
          "data": {
            "text/plain": [
              "array([[ 2,  4,  6],\n",
              "       [12, 15, 18]])"
            ]
          },
          "metadata": {
            "tags": []
          },
          "execution_count": 33
        }
      ]
    }
  ]
}